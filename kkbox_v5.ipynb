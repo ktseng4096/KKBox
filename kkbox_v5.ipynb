{
 "cells": [
  {
   "cell_type": "markdown",
   "metadata": {},
   "source": [
    "MSIS2802 Tom Chien, Kevin Tseng"
   ]
  },
  {
   "cell_type": "markdown",
   "metadata": {},
   "source": [
    "# KKBOX Churn Indicators"
   ]
  },
  {
   "cell_type": "markdown",
   "metadata": {},
   "source": [
    "KKBox is a streaming music subscription service for Taiwan.  It is similar to the Spotify service for the United States.  The following aims to find predictors of churn and thus recommend customers for marketing to focus their customer retention efforts on."
   ]
  },
  {
   "cell_type": "markdown",
   "metadata": {},
   "source": [
    "## Data Set Description"
   ]
  },
  {
   "cell_type": "markdown",
   "metadata": {},
   "source": [
    "__train.csv__\n",
    "\n",
    "the train set, containing the user ids and whether they have churned.\n",
    "* msno: user id\n",
    "* is_churn: This is the target variable. Churn is defined as whether the user did not continue the subscription within 30 days of expiration. is_churn = 1 means churn,is_churn = 0 means renewal."
   ]
  },
  {
   "cell_type": "markdown",
   "metadata": {},
   "source": [
    "__transactions.csv__\n",
    "\n",
    "transactions of users up until 2/28/2017.\n",
    "* msno: user id\n",
    "* payment_method_id: payment method\n",
    "* payment_plan_days: length of membership plan in days\n",
    "* plan_list_price: in New Taiwan Dollar (NTD)\n",
    "* actual_amount_paid: in New Taiwan Dollar (NTD)\n",
    "* is_auto_renew\n",
    "* transaction_date: format %Y%m%d\n",
    "* membership_expire_date: format %Y%m%d\n",
    "* is_cancel: whether or not the user canceled the membership in this transaction."
   ]
  },
  {
   "cell_type": "markdown",
   "metadata": {},
   "source": [
    "__user_logs.csv__\n",
    "\n",
    "daily user logs describing listening behaviors of a user. Data collected until 2/28/2017.\n",
    "* msno: user id\n",
    "* date: format %Y%m%d\n",
    "* num_25: # of songs played less than 25% of the song length\n",
    "* num_50: # of songs played between 25% to 50% of the song length\n",
    "* num_75: # of songs played between 50% to 75% of of the song length\n",
    "* num_985: # of songs played between 75% to 98.5% of the song length\n",
    "* num_100: # of songs played over 98.5% of the song length\n",
    "* num_unq: # of unique songs played\n",
    "* total_secs: total seconds played"
   ]
  },
  {
   "cell_type": "markdown",
   "metadata": {},
   "source": [
    "__members.csv__\n",
    "\n",
    "user information. Note that not every user in the dataset is available.\n",
    "* msno\n",
    "* city\n",
    "* bd: age. Note: this column has outlier values ranging from -7000 to 2015, please use your judgement.\n",
    "* gender\n",
    "* registered_via: registration method\n",
    "* registration_init_time: format %Y%m%d\n",
    "* expiration_date: format %Y%m%d, taken as a snapshot at which the member.csv is extracted. Not representing the actual churn behavior."
   ]
  },
  {
   "cell_type": "markdown",
   "metadata": {},
   "source": [
    "## Data Preparation Description"
   ]
  },
  {
   "cell_type": "markdown",
   "metadata": {},
   "source": []
  },
  {
   "cell_type": "markdown",
   "metadata": {},
   "source": [
    "## Business Insights"
   ]
  },
  {
   "cell_type": "markdown",
   "metadata": {},
   "source": [
    "### Insight 1"
   ]
  },
  {
   "cell_type": "markdown",
   "metadata": {},
   "source": [
    "High usage customers stabalize after 26 months as a customer."
   ]
  },
  {
   "cell_type": "code",
   "execution_count": 46,
   "metadata": {
    "collapsed": false,
    "deletable": true,
    "editable": true
   },
   "outputs": [
    {
     "data": {
      "text/plain": [
       "<seaborn.axisgrid.FacetGrid at 0x16b7c278>"
      ]
     },
     "execution_count": 46,
     "metadata": {},
     "output_type": "execute_result"
    },
    {
     "data": {
      "text/plain": [
       "<matplotlib.text.Text at 0x16b7cdd8>"
      ]
     },
     "execution_count": 46,
     "metadata": {},
     "output_type": "execute_result"
    },
    {
     "data": {
      "text/plain": [
       "<matplotlib.text.Text at 0xd0fd048>"
      ]
     },
     "execution_count": 46,
     "metadata": {},
     "output_type": "execute_result"
    },
    {
     "data": {
      "image/png": "[encoded data removed]",
      "text/plain": [
       "<matplotlib.figure.Figure at 0xd1152b0>"
      ]
     },
     "metadata": {},
     "output_type": "display_data"
    }
   ],
   "source": [
    "# Subscriptions are renewed monthly and thus the number of transactions is used as a proxy for time\n",
    "temp_subset['<= 26 months'] = temp_subset['transaction_num'] <= 26.5\n",
    "temp_subset['Playlist_usage_bin'] = pd.cut(temp_subset.Playlist_usage,bins=[-1,10,20,30,temp_subset.Playlist_usage.max()], right=True)\n",
    "sns.factorplot(x='Playlist_usage_bin', y='is_churn',hue='<= 26 months', data=temp_subset, kind='bar', aspect=3)\n",
    "plt.ylabel('Churn rate', fontsize=16)\n",
    "plt.xlabel('Usage', fontsize=16)"
   ]
  },
  {
   "cell_type": "markdown",
   "metadata": {},
   "source": [
    "__Managerial Insight:__  Retention efforts need to be made on all customers that have been with the service for less than 2 years regardless of actual usage."
   ]
  },
  {
   "cell_type": "markdown",
   "metadata": {},
   "source": [
    "* Usage was derived from customer listening habits of songs, where the song listened to was at least 75% complete."
   ]
  },
  {
   "cell_type": "markdown",
   "metadata": {},
   "source": [
    "### Insight 2"
   ]
  },
  {
   "cell_type": "markdown",
   "metadata": {},
   "source": [
    "A large drop in passive usage is a significantly more telling of churn than a large drop in active listening."
   ]
  },
  {
   "cell_type": "markdown",
   "metadata": {},
   "source": [
    "* Passive listening is based on songs listened to completion\n",
    "* Active listening is based on songs not listened to completion\n",
    "* All active category charts are in the code section, only the sub 25% usage is shown in this section, but they are similar."
   ]
  },
  {
   "cell_type": "code",
   "execution_count": 49,
   "metadata": {
    "collapsed": false,
    "deletable": true,
    "editable": true,
    "scrolled": false
   },
   "outputs": [
    {
     "data": {
      "text/plain": [
       "<seaborn.axisgrid.FacetGrid at 0xbc37d68>"
      ]
     },
     "execution_count": 49,
     "metadata": {},
     "output_type": "execute_result"
    },
    {
     "data": {
      "text/plain": [
       "<matplotlib.text.Text at 0x178ce0f0>"
      ]
     },
     "execution_count": 49,
     "metadata": {},
     "output_type": "execute_result"
    },
    {
     "data": {
      "text/plain": [
       "<matplotlib.text.Text at 0xcb94128>"
      ]
     },
     "execution_count": 49,
     "metadata": {},
     "output_type": "execute_result"
    },
    {
     "data": {
      "image/png": "[encoded data removed]",
      "text/plain": [
       "<matplotlib.figure.Figure at 0x18e5f358>"
      ]
     },
     "metadata": {},
     "output_type": "display_data"
    }
   ],
   "source": [
    "temp_subset['Active_percentage_drop'] = pd.cut(temp_subset.num_25,bins=[-inf,-0.5,-0.25,0,0.25,0.5,1], right=True, \n",
    "                                              labels = ['< -50%', '(-50%, -25%]', '(-25%, 0%]', '(0%, 25%]', '(25%, 50%]', '(50%, 100%]'])\n",
    "sns.factorplot(x='Active_percentage_drop', y='is_churn', data=temp_subset, kind='bar',aspect=3)\n",
    "plt.ylabel('Churn rate', fontsize=16)\n",
    "plt.xlabel('Percentage of Decrease in Actively Switching songs', fontsize=16)"
   ]
  },
  {
   "cell_type": "code",
   "execution_count": 50,
   "metadata": {
    "collapsed": false,
    "deletable": true,
    "editable": true,
    "scrolled": false
   },
   "outputs": [
    {
     "data": {
      "text/plain": [
       "<seaborn.axisgrid.FacetGrid at 0x16d7e518>"
      ]
     },
     "execution_count": 50,
     "metadata": {},
     "output_type": "execute_result"
    },
    {
     "data": {
      "text/plain": [
       "<matplotlib.text.Text at 0x123e2390>"
      ]
     },
     "execution_count": 50,
     "metadata": {},
     "output_type": "execute_result"
    },
    {
     "data": {
      "text/plain": [
       "<matplotlib.text.Text at 0x12405c50>"
      ]
     },
     "execution_count": 50,
     "metadata": {},
     "output_type": "execute_result"
    },
    {
     "data": {
      "image/png": "[encoded data removed]",
      "text/plain": [
       "<matplotlib.figure.Figure at 0x1243c908>"
      ]
     },
     "metadata": {},
     "output_type": "display_data"
    }
   ],
   "source": [
    "temp_subset['Passive_percentage_drop'] = pd.cut(temp_subset.num_100,bins=[-inf,-0.5,-0.25,0,0.25,0.5,1], right=True,\n",
    "                                               labels = ['< -50%', '(-50%, -25%]', '(-25%, 0%]', '(0%, 25%]', '(25%, 50%]', '(50%, 100%]'])\n",
    "sns.factorplot(x='Passive_percentage_drop', y='is_churn', data=temp_subset, kind='bar',aspect=3)\n",
    "plt.ylabel('Churn rate', fontsize=16)\n",
    "plt.xlabel('Percentage of Decrease in Passively Switching songs', fontsize=16)"
   ]
  },
  {
   "cell_type": "markdown",
   "metadata": {},
   "source": [
    "__Managerial Insight:__  In terms of behavior to monitor we want to pay attention to customers that that drop their passive listening habits by over 50%.  Retention efforts should be made on customers showing this drop."
   ]
  },
  {
   "cell_type": "markdown",
   "metadata": {},
   "source": [
    "### Insight 3"
   ]
  },
  {
   "cell_type": "markdown",
   "metadata": {},
   "source": [
    "Young users are significantly more likely to leave the service."
   ]
  },
  {
   "cell_type": "code",
   "execution_count": 50,
   "metadata": {
    "collapsed": false,
    "deletable": true,
    "editable": true,
    "scrolled": true
   },
   "outputs": [
    {
     "data": {
      "text/plain": [
       "<seaborn.axisgrid.FacetGrid at 0x10f0cbd10>"
      ]
     },
     "execution_count": 50,
     "metadata": {},
     "output_type": "execute_result"
    },
    {
     "data": {
      "image/png": "[encoded data removed]",
      "text/plain": [
       "<matplotlib.figure.Figure at 0x112aed450>"
      ]
     },
     "metadata": {},
     "output_type": "display_data"
    }
   ],
   "source": [
    "sns.factorplot(x='Age', y='is_churn', data=temp_subset, kind='bar', aspect=3)"
   ]
  },
  {
   "cell_type": "markdown",
   "metadata": {},
   "source": [
    "__Managerial Insight:__  Special marketing efforts need to be made towards younger customers to keep them as subsribers."
   ]
  },
  {
   "cell_type": "markdown",
   "metadata": {},
   "source": [
    "## Summary"
   ]
  },
  {
   "cell_type": "markdown",
   "metadata": {},
   "source": [
    "Customer rentention should focus on young customers, customers that significantly drop their passively listening habits, and customers that have been with the service under two years."
   ]
  },
  {
   "cell_type": "code",
   "execution_count": null,
   "metadata": {
    "collapsed": true
   },
   "outputs": [],
   "source": []
  },
  {
   "cell_type": "markdown",
   "metadata": {},
   "source": [
    "End business report"
   ]
  },
  {
   "cell_type": "code",
   "execution_count": null,
   "metadata": {
    "collapsed": true
   },
   "outputs": [],
   "source": []
  },
  {
   "cell_type": "code",
   "execution_count": null,
   "metadata": {
    "collapsed": true
   },
   "outputs": [],
   "source": []
  },
  {
   "cell_type": "code",
   "execution_count": 1,
   "metadata": {
    "collapsed": false,
    "deletable": true,
    "editable": true
   },
   "outputs": [
    {
     "name": "stdout",
     "output_type": "stream",
     "text": [
      "Populating the interactive namespace from numpy and matplotlib\n"
     ]
    }
   ],
   "source": [
    "# print all the outputs in a cell\n",
    "from IPython.core.interactiveshell import InteractiveShell\n",
    "InteractiveShell.ast_node_interactivity = \"all\"\n",
    "\n",
    "import pandas as pd\n",
    "import numpy as np\n",
    "import seaborn as sns\n",
    "%pylab inline\n",
    "\n",
    "import sklearn as sk\n",
    "import sklearn.tree as tree\n",
    "from IPython.display import Image  \n",
    "import pydotplus\n",
    "import matplotlib.pyplot as plt\n",
    "from string import ascii_letters"
   ]
  },
  {
   "cell_type": "markdown",
   "metadata": {
    "deletable": true,
    "editable": true
   },
   "source": [
    "# Create data subset"
   ]
  },
  {
   "cell_type": "markdown",
   "metadata": {
    "deletable": true,
    "editable": true
   },
   "source": [
    "#### The given files on kaggle are too large to build a model on a PC.  Therefore, the plan is to take a subset of training data to build the code and then will run the code on the full dataset in the cloud."
   ]
  },
  {
   "cell_type": "code",
   "execution_count": 133,
   "metadata": {
    "collapsed": false,
    "deletable": true,
    "editable": true
   },
   "outputs": [],
   "source": [
    "df1 = pd.read_csv('members.csv')  # kkbox member dataset"
   ]
  },
  {
   "cell_type": "code",
   "execution_count": 134,
   "metadata": {
    "collapsed": true,
    "deletable": true,
    "editable": true
   },
   "outputs": [],
   "source": [
    "df2 = pd.read_csv('train.csv')  # kkbox training dataset"
   ]
  },
  {
   "cell_type": "code",
   "execution_count": 135,
   "metadata": {
    "collapsed": false,
    "deletable": true,
    "editable": true
   },
   "outputs": [],
   "source": [
    "build = df2[::175]  # Grabbing subset of training dataset"
   ]
  },
  {
   "cell_type": "code",
   "execution_count": 136,
   "metadata": {
    "collapsed": false,
    "deletable": true,
    "editable": true
   },
   "outputs": [
    {
     "data": {
      "text/plain": [
       "5674"
      ]
     },
     "execution_count": 136,
     "metadata": {},
     "output_type": "execute_result"
    }
   ],
   "source": [
    "len(build)"
   ]
  },
  {
   "cell_type": "code",
   "execution_count": null,
   "metadata": {
    "collapsed": true,
    "deletable": true,
    "editable": true
   },
   "outputs": [],
   "source": [
    "# Merge the member dataset into training subset dataset\n",
    "build = build.merge(df1, left_on='msno', right_on='msno', how='left') \n",
    "# Drop double index\n",
    "build = build.dropna(subset=['Unnamed: 0']) "
   ]
  },
  {
   "cell_type": "code",
   "execution_count": null,
   "metadata": {
    "collapsed": false,
    "deletable": true,
    "editable": true
   },
   "outputs": [],
   "source": [
    "# Verifying that there is enough users that churn\n",
    "build.is_churn.sum()"
   ]
  },
  {
   "cell_type": "code",
   "execution_count": null,
   "metadata": {
    "collapsed": true,
    "deletable": true,
    "editable": true
   },
   "outputs": [],
   "source": [
    "# Create the new member dataset file that includes training data\n",
    "build.to_csv('build_members.csv')"
   ]
  },
  {
   "cell_type": "code",
   "execution_count": 80,
   "metadata": {
    "collapsed": false,
    "deletable": true,
    "editable": true
   },
   "outputs": [],
   "source": [
    "df3 = pd.read_csv('transactions.csv')  # kkbox transaction dataset"
   ]
  },
  {
   "cell_type": "code",
   "execution_count": null,
   "metadata": {
    "collapsed": true,
    "deletable": true,
    "editable": true
   },
   "outputs": [],
   "source": [
    "# Merge the member list into the transaction dataset.  \n",
    "build2 = df3.merge(build, left_on='msno', right_on='msno', how='left')\n",
    "# For the items that don't have a merge, column expiration_date will be NaN and are removed\n",
    "build3 = build2.dropna(subset=['expiration_date'])"
   ]
  },
  {
   "cell_type": "code",
   "execution_count": null,
   "metadata": {
    "collapsed": false,
    "deletable": true,
    "editable": true
   },
   "outputs": [],
   "source": [
    "len(build3)"
   ]
  },
  {
   "cell_type": "code",
   "execution_count": null,
   "metadata": {
    "collapsed": true,
    "deletable": true,
    "editable": true
   },
   "outputs": [],
   "source": [
    "# Save the new transactions data\n",
    "build3.to_csv('build_transactions.csv') "
   ]
  },
  {
   "cell_type": "code",
   "execution_count": null,
   "metadata": {
    "collapsed": true,
    "deletable": true,
    "editable": true
   },
   "outputs": [],
   "source": [
    "df4 = pd.read_csv('build_members.csv')"
   ]
  },
  {
   "cell_type": "code",
   "execution_count": 4,
   "metadata": {
    "collapsed": false,
    "deletable": true,
    "editable": true
   },
   "outputs": [],
   "source": [
    "# Since the data is too large, we will take the large file in sections.  \n",
    "# We build the same way that we do the transaction data.  \n",
    "chunksize = 10 ** 7\n",
    "n=0\n",
    "for chunk in pd.read_csv('user_logs.csv', chunksize = chunksize):\n",
    "    build4 = chunk.merge(build, left_on='msno', right_on='msno', how='left')\n",
    "    build5 = build4.dropna(subset=['is_churn'])\n",
    "    n=n+1\n",
    "    name = str(n) + '.csv'\n",
    "    build5.to_csv(name)"
   ]
  },
  {
   "cell_type": "code",
   "execution_count": 17,
   "metadata": {
    "collapsed": false,
    "deletable": true,
    "editable": true
   },
   "outputs": [],
   "source": [
    "# The chunk method left us with numerous files that we now need to combine into one file\n",
    "build6 = pd.read_csv('1.csv')\n",
    "for i in range(39):\n",
    "    name = str(i+1) + '.csv'\n",
    "    build6 = build6.append(pd.read_csv(name))"
   ]
  },
  {
   "cell_type": "code",
   "execution_count": 18,
   "metadata": {
    "collapsed": false,
    "deletable": true,
    "editable": true
   },
   "outputs": [
    {
     "data": {
      "text/plain": [
       "1459582"
      ]
     },
     "execution_count": 18,
     "metadata": {},
     "output_type": "execute_result"
    }
   ],
   "source": [
    "len(build6)"
   ]
  },
  {
   "cell_type": "code",
   "execution_count": 19,
   "metadata": {
    "collapsed": false,
    "deletable": true,
    "editable": true
   },
   "outputs": [],
   "source": [
    "# Export our last build file.\n",
    "build6.to_csv('build_user_logs.csv')"
   ]
  },
  {
   "cell_type": "markdown",
   "metadata": {
    "deletable": true,
    "editable": true
   },
   "source": [
    "# Data Cleaning"
   ]
  },
  {
   "cell_type": "markdown",
   "metadata": {
    "deletable": true,
    "editable": true
   },
   "source": [
    "#### Load created files"
   ]
  },
  {
   "cell_type": "markdown",
   "metadata": {},
   "source": [
    "* Submitted files start here"
   ]
  },
  {
   "cell_type": "code",
   "execution_count": 2,
   "metadata": {
    "collapsed": false,
    "deletable": true,
    "editable": true
   },
   "outputs": [],
   "source": [
    "members = pd.read_csv('build_members.csv')\n",
    "transactions = pd.read_csv('build_transactions.csv')\n",
    "user_logs = pd.read_csv('build_user_logs.csv')"
   ]
  },
  {
   "cell_type": "code",
   "execution_count": 3,
   "metadata": {
    "collapsed": false,
    "deletable": true,
    "editable": true
   },
   "outputs": [
    {
     "data": {
      "text/plain": [
       "5674"
      ]
     },
     "execution_count": 3,
     "metadata": {},
     "output_type": "execute_result"
    },
    {
     "data": {
      "text/plain": [
       "83214"
      ]
     },
     "execution_count": 3,
     "metadata": {},
     "output_type": "execute_result"
    },
    {
     "data": {
      "text/plain": [
       "1459582"
      ]
     },
     "execution_count": 3,
     "metadata": {},
     "output_type": "execute_result"
    }
   ],
   "source": [
    "len(members)\n",
    "len(transactions)\n",
    "len(user_logs)"
   ]
  },
  {
   "cell_type": "markdown",
   "metadata": {
    "collapsed": true,
    "deletable": true,
    "editable": true
   },
   "source": [
    "## Members"
   ]
  },
  {
   "cell_type": "markdown",
   "metadata": {
    "deletable": true,
    "editable": true
   },
   "source": [
    "#### Set dates variables"
   ]
  },
  {
   "cell_type": "code",
   "execution_count": 4,
   "metadata": {
    "collapsed": false,
    "deletable": true,
    "editable": true
   },
   "outputs": [],
   "source": [
    "members['registration_init_time'] = pd.to_datetime(members['registration_init_time'], format = '%Y%m%d')\n",
    "members['expiration_date'] = pd.to_datetime(members['expiration_date'], format = '%Y%m%d')"
   ]
  },
  {
   "cell_type": "markdown",
   "metadata": {
    "deletable": true,
    "editable": true
   },
   "source": [
    "## Transactions"
   ]
  },
  {
   "cell_type": "markdown",
   "metadata": {
    "deletable": true,
    "editable": true
   },
   "source": [
    "#### Add the latest data from transactions list\n",
    "Take the last value of is_auto_renew, is_cancel, membership_expire_date, "
   ]
  },
  {
   "cell_type": "code",
   "execution_count": 5,
   "metadata": {
    "collapsed": false,
    "deletable": true,
    "editable": true
   },
   "outputs": [],
   "source": [
    "# temporary dataframe of last transaction\n",
    "df = transactions.groupby('msno').apply(lambda x : x[x['transaction_date'] == x['transaction_date'].max()].iloc[0,:])\n",
    "# drop unneeded column\n",
    "df.drop(['Unnamed: 0','is_churn','city','bd','gender','registered_via','registration_init_time','expiration_date'], axis = 1, inplace = True)  \n",
    "# merge member data with latest transaction data\n",
    "temp_subset = members.merge(df,  left_on='msno', right_on='msno', how='left') \n",
    "# remove unneeded columns\n",
    "temp_subset.drop(['Unnamed: 0'],axis = 1, inplace = True) "
   ]
  },
  {
   "cell_type": "markdown",
   "metadata": {
    "deletable": true,
    "editable": true
   },
   "source": [
    "#### Set date variables"
   ]
  },
  {
   "cell_type": "code",
   "execution_count": 6,
   "metadata": {
    "collapsed": true,
    "deletable": true,
    "editable": true
   },
   "outputs": [],
   "source": [
    "temp_subset['transaction_date'] = pd.to_datetime(temp_subset['transaction_date'], format = '%Y%m%d')\n",
    "temp_subset['membership_expire_date'] = pd.to_datetime(temp_subset['membership_expire_date'], format = '%Y%m%d')"
   ]
  },
  {
   "cell_type": "markdown",
   "metadata": {
    "deletable": true,
    "editable": true
   },
   "source": [
    "#### Add number of total transactions, different payment methods, and different length of membership plan in the past"
   ]
  },
  {
   "cell_type": "code",
   "execution_count": 7,
   "metadata": {
    "collapsed": false,
    "deletable": true,
    "editable": true
   },
   "outputs": [],
   "source": [
    "# number of total transactions for member\n",
    "transaction_num = pd.DataFrame(transactions.groupby('msno').is_churn.count()).reset_index().rename(columns= {'is_churn':'transaction_num'})\n",
    "temp_subset = temp_subset.merge(transaction_num, left_on='msno', right_on='msno')\n",
    "# number of different payment methods used for member\n",
    "payment_num_unique = pd.DataFrame(transactions.groupby('msno').payment_method_id.nunique()).reset_index().rename(columns= {'payment_method_id':'payment_nunique'})\n",
    "temp_subset = temp_subset.merge(payment_num_unique, left_on='msno', right_on='msno')\n",
    "# number of different payment plans days used for member\n",
    "plans_num_unique = pd.DataFrame(transactions.groupby('msno').payment_plan_days.nunique()).reset_index().rename(columns= {'payment_plan_days':'plans_nunique'})\n",
    "temp_subset = temp_subset.merge(plans_num_unique, left_on='msno', right_on='msno')"
   ]
  },
  {
   "cell_type": "markdown",
   "metadata": {
    "deletable": true,
    "editable": true
   },
   "source": [
    "#### Set Category Variables"
   ]
  },
  {
   "cell_type": "code",
   "execution_count": 8,
   "metadata": {
    "collapsed": true,
    "deletable": true,
    "editable": true
   },
   "outputs": [],
   "source": [
    "temp_subset = pd.get_dummies(temp_subset,columns=['city'])\n",
    "temp_subset = pd.get_dummies(temp_subset,columns=['gender'])"
   ]
  },
  {
   "cell_type": "markdown",
   "metadata": {
    "deletable": true,
    "editable": true
   },
   "source": [
    "## User logs"
   ]
  },
  {
   "cell_type": "markdown",
   "metadata": {
    "deletable": true,
    "editable": true
   },
   "source": [
    "#### Create user_history as the target converted dataset"
   ]
  },
  {
   "cell_type": "code",
   "execution_count": 9,
   "metadata": {
    "collapsed": true,
    "deletable": true,
    "editable": true
   },
   "outputs": [],
   "source": [
    "df5 = user_logs.copy()"
   ]
  },
  {
   "cell_type": "code",
   "execution_count": 10,
   "metadata": {
    "collapsed": true,
    "deletable": true,
    "editable": true
   },
   "outputs": [],
   "source": [
    "user_history = df5.groupby('msno').agg({'total_secs':['size','std','mean'], 'num_unq':['sum','mean']}).reset_index()"
   ]
  },
  {
   "cell_type": "code",
   "execution_count": 11,
   "metadata": {
    "collapsed": false,
    "deletable": true,
    "editable": true
   },
   "outputs": [],
   "source": [
    "user_history.columns=['msno','num_of_record','std_sec','average_sec','total_unq_songs','average_song']"
   ]
  },
  {
   "cell_type": "markdown",
   "metadata": {
    "deletable": true,
    "editable": true
   },
   "source": [
    "#### Add average_repeat_song"
   ]
  },
  {
   "cell_type": "code",
   "execution_count": 12,
   "metadata": {
    "collapsed": false,
    "deletable": true,
    "editable": true
   },
   "outputs": [],
   "source": [
    "df5['Repeat_songs'] = df5.num_100 - df5.num_unq"
   ]
  },
  {
   "cell_type": "code",
   "execution_count": 13,
   "metadata": {
    "collapsed": true,
    "deletable": true,
    "editable": true
   },
   "outputs": [],
   "source": [
    "average_repeat_song = pd.DataFrame(df5.groupby('msno')['Repeat_songs'].mean()).reset_index()"
   ]
  },
  {
   "cell_type": "code",
   "execution_count": 14,
   "metadata": {
    "collapsed": true,
    "deletable": true,
    "editable": true
   },
   "outputs": [],
   "source": [
    "user_history = user_history.merge(average_repeat_song, how='left', on='msno')"
   ]
  },
  {
   "cell_type": "markdown",
   "metadata": {
    "deletable": true,
    "editable": true
   },
   "source": [
    "#### Add Quick scan behavior"
   ]
  },
  {
   "cell_type": "code",
   "execution_count": 15,
   "metadata": {
    "collapsed": true,
    "deletable": true,
    "editable": true
   },
   "outputs": [],
   "source": [
    "average_quick_scan = pd.DataFrame(df5.groupby('msno')['num_25'].mean()).reset_index().rename(columns= {'num_25':'Quick_scan'})"
   ]
  },
  {
   "cell_type": "code",
   "execution_count": 16,
   "metadata": {
    "collapsed": true,
    "deletable": true,
    "editable": true
   },
   "outputs": [],
   "source": [
    "user_history = user_history.merge(average_quick_scan, how='left', on='msno')"
   ]
  },
  {
   "cell_type": "markdown",
   "metadata": {
    "deletable": true,
    "editable": true
   },
   "source": [
    "#### Add Playlist usage"
   ]
  },
  {
   "cell_type": "code",
   "execution_count": 17,
   "metadata": {
    "collapsed": true,
    "deletable": true,
    "editable": true
   },
   "outputs": [],
   "source": [
    "df5['Playlist_usage'] = df5.num_985 + df5.num_100"
   ]
  },
  {
   "cell_type": "code",
   "execution_count": 18,
   "metadata": {
    "collapsed": true,
    "deletable": true,
    "editable": true
   },
   "outputs": [],
   "source": [
    "average_playlist_usage = pd.DataFrame(df5.groupby('msno')['Playlist_usage'].mean()).reset_index()"
   ]
  },
  {
   "cell_type": "code",
   "execution_count": 19,
   "metadata": {
    "collapsed": true,
    "deletable": true,
    "editable": true
   },
   "outputs": [],
   "source": [
    "user_history = user_history.merge(average_playlist_usage, how='left', on='msno')"
   ]
  },
  {
   "cell_type": "code",
   "execution_count": 20,
   "metadata": {
    "collapsed": true,
    "deletable": true,
    "editable": true
   },
   "outputs": [],
   "source": [
    "#merge into temp_subset\n",
    "temp_subset = temp_subset.merge(user_history,  left_on='msno', right_on='msno', how='left')"
   ]
  },
  {
   "cell_type": "markdown",
   "metadata": {
    "deletable": true,
    "editable": true
   },
   "source": [
    "#### Remove extra columns"
   ]
  },
  {
   "cell_type": "code",
   "execution_count": 21,
   "metadata": {
    "collapsed": true,
    "deletable": true,
    "editable": true
   },
   "outputs": [],
   "source": [
    "user_logs.drop(['Unnamed: 0', 'Unnamed: 0.1', 'is_churn'], axis=1, inplace=True)"
   ]
  },
  {
   "cell_type": "markdown",
   "metadata": {
    "deletable": true,
    "editable": true
   },
   "source": [
    "#### (Get average - last entry) / average\n",
    "How user behavior in the last entry shift from his/her own average history\n",
    "\n",
    " 1 means the user stop listening to all music for that column </p>\n",
    "-1 means the user doubled his listening"
   ]
  },
  {
   "cell_type": "code",
   "execution_count": 22,
   "metadata": {
    "collapsed": false,
    "deletable": true,
    "editable": true
   },
   "outputs": [],
   "source": [
    "df6 = user_logs.groupby('msno').mean()\n",
    "df6.drop(['date'], axis=1, inplace=True)\n",
    "df7 = user_logs.groupby('msno').apply(lambda x : x[x['date'] == x['date'].max()])\n",
    "df7.drop(['msno'], axis=1, inplace=True)\n",
    "df8 = (df6 - df7) / df6  # +1 = 100% loss, -1 100% = gain, 0 = stays the same\n",
    "df8 = df8.reset_index()\n",
    "df8.drop(['level_1', 'date'], axis=1, inplace=True)"
   ]
  },
  {
   "cell_type": "markdown",
   "metadata": {
    "deletable": true,
    "editable": true
   },
   "source": [
    "#### Replace nan values with 0"
   ]
  },
  {
   "cell_type": "code",
   "execution_count": 23,
   "metadata": {
    "collapsed": true,
    "deletable": true,
    "editable": true
   },
   "outputs": [],
   "source": [
    "df8.fillna(0, inplace=True)"
   ]
  },
  {
   "cell_type": "markdown",
   "metadata": {
    "deletable": true,
    "editable": true
   },
   "source": [
    "#### Convert varaibles to float32"
   ]
  },
  {
   "cell_type": "code",
   "execution_count": 24,
   "metadata": {
    "collapsed": true,
    "deletable": true,
    "editable": true
   },
   "outputs": [],
   "source": [
    "df8['num_100'] = float32(df8['num_100'])\n",
    "df8['num_25'] = float32(df8['num_25'])\n",
    "df8['num_50'] = float32(df8['num_50'])\n",
    "df8['num_75'] = float32(df8['num_75'])\n",
    "df8['num_985'] = float32(df8['num_985'])\n",
    "df8['num_unq'] = float32(df8['num_unq'])\n",
    "df8['total_secs'] = float32(df8['total_secs'])"
   ]
  },
  {
   "cell_type": "code",
   "execution_count": 25,
   "metadata": {
    "collapsed": false,
    "deletable": true,
    "editable": true
   },
   "outputs": [],
   "source": [
    "#merge into temp_subset\n",
    "temp_subset = temp_subset.merge(df8,  left_on='msno', right_on='msno', how='left')"
   ]
  },
  {
   "cell_type": "markdown",
   "metadata": {
    "collapsed": true,
    "deletable": true,
    "editable": true
   },
   "source": [
    "# Checkpoint"
   ]
  },
  {
   "cell_type": "markdown",
   "metadata": {
    "deletable": true,
    "editable": true
   },
   "source": [
    "## Correlation"
   ]
  },
  {
   "cell_type": "code",
   "execution_count": 26,
   "metadata": {
    "collapsed": false,
    "deletable": true,
    "editable": true
   },
   "outputs": [],
   "source": [
    "c = temp_subset.corr().abs()\n",
    "s = c.unstack().sort_values(ascending = False)"
   ]
  },
  {
   "cell_type": "code",
   "execution_count": 27,
   "metadata": {
    "collapsed": false,
    "deletable": true,
    "editable": true
   },
   "outputs": [],
   "source": [
    "s = s[s!=1]"
   ]
  },
  {
   "cell_type": "code",
   "execution_count": 28,
   "metadata": {
    "collapsed": false,
    "deletable": true,
    "editable": true,
    "scrolled": true
   },
   "outputs": [
    {
     "data": {
      "text/plain": [
       "actual_amount_paid  plan_list_price       0.999104\n",
       "plan_list_price     actual_amount_paid    0.999104\n",
       "payment_plan_days   plan_list_price       0.974220\n",
       "plan_list_price     payment_plan_days     0.974220\n",
       "actual_amount_paid  payment_plan_days     0.973607\n",
       "payment_plan_days   actual_amount_paid    0.973607\n",
       "num_100             total_secs            0.950271\n",
       "total_secs          num_100               0.950271\n",
       "average_sec         std_sec               0.835722\n",
       "std_sec             average_sec           0.835722\n",
       "total_secs          num_unq               0.820335\n",
       "num_unq             total_secs            0.820335\n",
       "Playlist_usage      average_song          0.804262\n",
       "average_song        Playlist_usage        0.804262\n",
       "num_100             num_unq               0.784382\n",
       "num_unq             num_100               0.784382\n",
       "average_song        total_unq_songs       0.761979\n",
       "total_unq_songs     average_song          0.761979\n",
       "num_of_record       total_unq_songs       0.751898\n",
       "total_unq_songs     num_of_record         0.751898\n",
       "                    Playlist_usage        0.650985\n",
       "Playlist_usage      total_unq_songs       0.650985\n",
       "Repeat_songs        Playlist_usage        0.616473\n",
       "Playlist_usage      Repeat_songs          0.616473\n",
       "bd                  city_1.0              0.613260\n",
       "city_1.0            bd                    0.613260\n",
       "transaction_num     num_of_record         0.561358\n",
       "num_of_record       transaction_num       0.561358\n",
       "is_cancel           is_churn              0.532810\n",
       "is_churn            is_cancel             0.532810\n",
       "                                            ...   \n",
       "average_sec         city_12.0             0.000473\n",
       "city_12.0           average_sec           0.000473\n",
       "total_secs          city_4.0              0.000350\n",
       "city_4.0            total_secs            0.000350\n",
       "city_18.0           average_sec           0.000319\n",
       "average_sec         city_18.0             0.000319\n",
       "city_12.0           Repeat_songs          0.000245\n",
       "Repeat_songs        city_12.0             0.000245\n",
       "num_985             bd                    0.000190\n",
       "bd                  num_985               0.000190\n",
       "city_9.0            average_sec           0.000170\n",
       "average_sec         city_9.0              0.000170\n",
       "city_8.0            Repeat_songs          0.000163\n",
       "Repeat_songs        city_8.0              0.000163\n",
       "average_sec         num_100               0.000120\n",
       "num_100             average_sec           0.000120\n",
       "num_unq             city_6.0              0.000118\n",
       "city_6.0            num_unq               0.000118\n",
       "std_sec             num_50                0.000102\n",
       "num_50              std_sec               0.000102\n",
       "num_985             city_22.0             0.000100\n",
       "city_22.0           num_985               0.000100\n",
       "city_7.0            actual_amount_paid    0.000060\n",
       "actual_amount_paid  city_7.0              0.000060\n",
       "num_100             city_6.0              0.000053\n",
       "city_6.0            num_100               0.000053\n",
       "city_7.0            plan_list_price       0.000044\n",
       "plan_list_price     city_7.0              0.000044\n",
       "Repeat_songs        city_18.0             0.000004\n",
       "city_18.0           Repeat_songs          0.000004\n",
       "Length: 2352, dtype: float64"
      ]
     },
     "execution_count": 28,
     "metadata": {},
     "output_type": "execute_result"
    }
   ],
   "source": [
    "s"
   ]
  },
  {
   "cell_type": "code",
   "execution_count": 32,
   "metadata": {
    "collapsed": false,
    "deletable": true,
    "editable": true
   },
   "outputs": [
    {
     "data": {
      "text/plain": [
       "Index([u'msno', u'is_churn', u'bd', u'registered_via',\n",
       "       u'registration_init_time', u'expiration_date', u'Taipei',\n",
       "       u'payment_method_id', u'payment_plan_days', u'plan_list_price',\n",
       "       u'actual_amount_paid', u'is_auto_renew', u'transaction_date',\n",
       "       u'membership_expire_date', u'is_cancel', u'transaction_num',\n",
       "       u'payment_nunique', u'plans_nunique', u'city_1.0', u'city_3.0',\n",
       "       u'city_4.0', u'city_5.0', u'city_6.0', u'city_7.0', u'city_8.0',\n",
       "       u'city_9.0', u'city_10.0', u'city_11.0', u'city_12.0', u'city_13.0',\n",
       "       u'city_14.0', u'city_15.0', u'city_16.0', u'city_17.0', u'city_18.0',\n",
       "       u'city_20.0', u'city_21.0', u'city_22.0', u'gender_female',\n",
       "       u'gender_male', u'num_of_record', u'std_sec', u'average_sec',\n",
       "       u'total_unq_songs', u'average_song', u'Repeat_songs', u'Quick_scan',\n",
       "       u'Playlist_usage', u'num_100', u'num_25', u'num_50', u'num_75',\n",
       "       u'num_985', u'num_unq', u'total_secs'],\n",
       "      dtype='object')"
      ]
     },
     "execution_count": 32,
     "metadata": {},
     "output_type": "execute_result"
    }
   ],
   "source": [
    "temp_subset.columns"
   ]
  },
  {
   "cell_type": "code",
   "execution_count": 29,
   "metadata": {
    "collapsed": false,
    "deletable": true,
    "editable": true
   },
   "outputs": [],
   "source": [
    "temp2 = temp_subset.drop(['plan_list_price', 'total_unq_songs','actual_amount_paid', 'payment_method_id','total_secs','num_unq','registered_via','std_sec','average_song'], axis=1)"
   ]
  },
  {
   "cell_type": "code",
   "execution_count": 30,
   "metadata": {
    "collapsed": false,
    "deletable": true,
    "editable": true
   },
   "outputs": [],
   "source": [
    "c = temp2.corr().abs()\n",
    "s = c.unstack().sort_values(ascending = False)"
   ]
  },
  {
   "cell_type": "code",
   "execution_count": 31,
   "metadata": {
    "collapsed": false,
    "deletable": true,
    "editable": true,
    "scrolled": true
   },
   "outputs": [
    {
     "data": {
      "text/plain": [
       "Repeat_songs     Playlist_usage     0.616473\n",
       "Playlist_usage   Repeat_songs       0.616473\n",
       "city_1.0         bd                 0.613260\n",
       "bd               city_1.0           0.613260\n",
       "transaction_num  num_of_record      0.561358\n",
       "num_of_record    transaction_num    0.561358\n",
       "is_cancel        is_churn           0.532810\n",
       "is_churn         is_cancel          0.532810\n",
       "city_1.0         gender_male        0.529841\n",
       "gender_male      city_1.0           0.529841\n",
       "num_50           num_25             0.503194\n",
       "num_25           num_50             0.503194\n",
       "plans_nunique    num_of_record      0.500776\n",
       "num_of_record    plans_nunique      0.500776\n",
       "gender_female    city_1.0           0.500031\n",
       "city_1.0         gender_female      0.500031\n",
       "plans_nunique    city_1.0           0.496070\n",
       "city_1.0         plans_nunique      0.496070\n",
       "num_50           num_75             0.482210\n",
       "num_75           num_50             0.482210\n",
       "transaction_num  plans_nunique      0.459125\n",
       "plans_nunique    transaction_num    0.459125\n",
       "Quick_scan       Repeat_songs       0.458287\n",
       "Repeat_songs     Quick_scan         0.458287\n",
       "num_75           num_25             0.418383\n",
       "num_25           num_75             0.418383\n",
       "city_1.0         num_of_record      0.392078\n",
       "num_of_record    city_1.0           0.392078\n",
       "bd               gender_male        0.391253\n",
       "gender_male      bd                 0.391253\n",
       "                                      ...   \n",
       "payment_nunique  city_7.0           0.000561\n",
       "city_7.0         payment_nunique    0.000561\n",
       "city_14.0        num_25             0.000531\n",
       "num_25           city_14.0          0.000531\n",
       "gender_female    is_cancel          0.000515\n",
       "is_cancel        gender_female      0.000515\n",
       "num_985          city_15.0          0.000505\n",
       "city_15.0        num_985            0.000505\n",
       "city_18.0        payment_nunique    0.000480\n",
       "payment_nunique  city_18.0          0.000480\n",
       "average_sec      city_12.0          0.000473\n",
       "city_12.0        average_sec        0.000473\n",
       "average_sec      city_18.0          0.000319\n",
       "city_18.0        average_sec        0.000319\n",
       "city_12.0        Repeat_songs       0.000245\n",
       "Repeat_songs     city_12.0          0.000245\n",
       "num_985          bd                 0.000190\n",
       "bd               num_985            0.000190\n",
       "city_9.0         average_sec        0.000170\n",
       "average_sec      city_9.0           0.000170\n",
       "Repeat_songs     city_8.0           0.000163\n",
       "city_8.0         Repeat_songs       0.000163\n",
       "num_100          average_sec        0.000120\n",
       "average_sec      num_100            0.000120\n",
       "num_985          city_22.0          0.000100\n",
       "city_22.0        num_985            0.000100\n",
       "num_100          city_6.0           0.000053\n",
       "city_6.0         num_100            0.000053\n",
       "Repeat_songs     city_18.0          0.000004\n",
       "city_18.0        Repeat_songs       0.000004\n",
       "Length: 1560, dtype: float64"
      ]
     },
     "execution_count": 31,
     "metadata": {},
     "output_type": "execute_result"
    }
   ],
   "source": [
    "s = s[s!=1]\n",
    "s"
   ]
  },
  {
   "cell_type": "markdown",
   "metadata": {
    "collapsed": true,
    "deletable": true,
    "editable": true
   },
   "source": [
    "#### Correlation Matrix"
   ]
  },
  {
   "cell_type": "code",
   "execution_count": 32,
   "metadata": {
    "collapsed": false,
    "deletable": true,
    "editable": true
   },
   "outputs": [],
   "source": [
    "corr = temp2.corr()"
   ]
  },
  {
   "cell_type": "code",
   "execution_count": 33,
   "metadata": {
    "collapsed": false,
    "deletable": true,
    "editable": true,
    "scrolled": true
   },
   "outputs": [
    {
     "data": {
      "text/html": [
       "<div>\n",
       "<style>\n",
       "    .dataframe thead tr:only-child th {\n",
       "        text-align: right;\n",
       "    }\n",
       "\n",
       "    .dataframe thead th {\n",
       "        text-align: left;\n",
       "    }\n",
       "\n",
       "    .dataframe tbody tr th {\n",
       "        vertical-align: top;\n",
       "    }\n",
       "</style>\n",
       "<table border=\"1\" class=\"dataframe\">\n",
       "  <thead>\n",
       "    <tr style=\"text-align: right;\">\n",
       "      <th></th>\n",
       "      <th>is_churn</th>\n",
       "      <th>bd</th>\n",
       "      <th>payment_plan_days</th>\n",
       "      <th>is_auto_renew</th>\n",
       "      <th>is_cancel</th>\n",
       "      <th>transaction_num</th>\n",
       "      <th>payment_nunique</th>\n",
       "      <th>plans_nunique</th>\n",
       "      <th>city_1.0</th>\n",
       "      <th>city_3.0</th>\n",
       "      <th>...</th>\n",
       "      <th>num_of_record</th>\n",
       "      <th>average_sec</th>\n",
       "      <th>Repeat_songs</th>\n",
       "      <th>Quick_scan</th>\n",
       "      <th>Playlist_usage</th>\n",
       "      <th>num_100</th>\n",
       "      <th>num_25</th>\n",
       "      <th>num_50</th>\n",
       "      <th>num_75</th>\n",
       "      <th>num_985</th>\n",
       "    </tr>\n",
       "  </thead>\n",
       "  <tbody>\n",
       "    <tr>\n",
       "      <th>is_churn</th>\n",
       "      <td>1.000000</td>\n",
       "      <td>0.028426</td>\n",
       "      <td>0.252333</td>\n",
       "      <td>-0.370103</td>\n",
       "      <td>0.532810</td>\n",
       "      <td>-0.164928</td>\n",
       "      <td>0.125720</td>\n",
       "      <td>0.032533</td>\n",
       "      <td>-0.076498</td>\n",
       "      <td>0.009654</td>\n",
       "      <td>...</td>\n",
       "      <td>-0.041495</td>\n",
       "      <td>0.000580</td>\n",
       "      <td>-0.016925</td>\n",
       "      <td>0.039278</td>\n",
       "      <td>0.005675</td>\n",
       "      <td>0.078381</td>\n",
       "      <td>0.045628</td>\n",
       "      <td>0.026718</td>\n",
       "      <td>0.040056</td>\n",
       "      <td>0.034082</td>\n",
       "    </tr>\n",
       "    <tr>\n",
       "      <th>bd</th>\n",
       "      <td>0.028426</td>\n",
       "      <td>1.000000</td>\n",
       "      <td>0.049594</td>\n",
       "      <td>-0.066421</td>\n",
       "      <td>0.008381</td>\n",
       "      <td>0.107316</td>\n",
       "      <td>0.119144</td>\n",
       "      <td>0.325168</td>\n",
       "      <td>-0.613260</td>\n",
       "      <td>0.038319</td>\n",
       "      <td>...</td>\n",
       "      <td>0.240334</td>\n",
       "      <td>-0.022030</td>\n",
       "      <td>0.082392</td>\n",
       "      <td>-0.004527</td>\n",
       "      <td>0.150984</td>\n",
       "      <td>0.033756</td>\n",
       "      <td>0.012929</td>\n",
       "      <td>0.013659</td>\n",
       "      <td>0.014803</td>\n",
       "      <td>-0.000190</td>\n",
       "    </tr>\n",
       "    <tr>\n",
       "      <th>payment_plan_days</th>\n",
       "      <td>0.252333</td>\n",
       "      <td>0.049594</td>\n",
       "      <td>1.000000</td>\n",
       "      <td>-0.342218</td>\n",
       "      <td>-0.023985</td>\n",
       "      <td>-0.203714</td>\n",
       "      <td>0.044238</td>\n",
       "      <td>0.011536</td>\n",
       "      <td>-0.106411</td>\n",
       "      <td>0.017335</td>\n",
       "      <td>...</td>\n",
       "      <td>0.076182</td>\n",
       "      <td>0.006015</td>\n",
       "      <td>0.002164</td>\n",
       "      <td>0.021066</td>\n",
       "      <td>0.042792</td>\n",
       "      <td>0.021691</td>\n",
       "      <td>0.030892</td>\n",
       "      <td>0.010245</td>\n",
       "      <td>0.015510</td>\n",
       "      <td>-0.000669</td>\n",
       "    </tr>\n",
       "    <tr>\n",
       "      <th>is_auto_renew</th>\n",
       "      <td>-0.370103</td>\n",
       "      <td>-0.066421</td>\n",
       "      <td>-0.342218</td>\n",
       "      <td>1.000000</td>\n",
       "      <td>0.070088</td>\n",
       "      <td>0.300210</td>\n",
       "      <td>-0.276671</td>\n",
       "      <td>-0.037313</td>\n",
       "      <td>0.172581</td>\n",
       "      <td>-0.016821</td>\n",
       "      <td>...</td>\n",
       "      <td>-0.005425</td>\n",
       "      <td>0.004607</td>\n",
       "      <td>-0.003845</td>\n",
       "      <td>-0.107382</td>\n",
       "      <td>-0.086282</td>\n",
       "      <td>-0.023786</td>\n",
       "      <td>-0.021431</td>\n",
       "      <td>-0.010637</td>\n",
       "      <td>-0.019086</td>\n",
       "      <td>0.008428</td>\n",
       "    </tr>\n",
       "    <tr>\n",
       "      <th>is_cancel</th>\n",
       "      <td>0.532810</td>\n",
       "      <td>0.008381</td>\n",
       "      <td>-0.023985</td>\n",
       "      <td>0.070088</td>\n",
       "      <td>1.000000</td>\n",
       "      <td>0.013473</td>\n",
       "      <td>0.020179</td>\n",
       "      <td>0.013684</td>\n",
       "      <td>-0.009569</td>\n",
       "      <td>0.013127</td>\n",
       "      <td>...</td>\n",
       "      <td>-0.018355</td>\n",
       "      <td>-0.000813</td>\n",
       "      <td>-0.023812</td>\n",
       "      <td>0.028086</td>\n",
       "      <td>-0.013774</td>\n",
       "      <td>0.052021</td>\n",
       "      <td>0.021070</td>\n",
       "      <td>0.012687</td>\n",
       "      <td>0.022783</td>\n",
       "      <td>0.027585</td>\n",
       "    </tr>\n",
       "    <tr>\n",
       "      <th>transaction_num</th>\n",
       "      <td>-0.164928</td>\n",
       "      <td>0.107316</td>\n",
       "      <td>-0.203714</td>\n",
       "      <td>0.300210</td>\n",
       "      <td>0.013473</td>\n",
       "      <td>1.000000</td>\n",
       "      <td>-0.054679</td>\n",
       "      <td>0.459125</td>\n",
       "      <td>-0.132044</td>\n",
       "      <td>0.014506</td>\n",
       "      <td>...</td>\n",
       "      <td>0.561358</td>\n",
       "      <td>-0.037306</td>\n",
       "      <td>0.038607</td>\n",
       "      <td>-0.064981</td>\n",
       "      <td>0.052512</td>\n",
       "      <td>-0.012295</td>\n",
       "      <td>-0.025498</td>\n",
       "      <td>-0.035267</td>\n",
       "      <td>-0.028029</td>\n",
       "      <td>-0.001303</td>\n",
       "    </tr>\n",
       "    <tr>\n",
       "      <th>payment_nunique</th>\n",
       "      <td>0.125720</td>\n",
       "      <td>0.119144</td>\n",
       "      <td>0.044238</td>\n",
       "      <td>-0.276671</td>\n",
       "      <td>0.020179</td>\n",
       "      <td>-0.054679</td>\n",
       "      <td>1.000000</td>\n",
       "      <td>0.302096</td>\n",
       "      <td>-0.286189</td>\n",
       "      <td>0.025534</td>\n",
       "      <td>...</td>\n",
       "      <td>0.150190</td>\n",
       "      <td>-0.035995</td>\n",
       "      <td>0.005829</td>\n",
       "      <td>0.075463</td>\n",
       "      <td>0.110634</td>\n",
       "      <td>0.029446</td>\n",
       "      <td>0.037920</td>\n",
       "      <td>0.005777</td>\n",
       "      <td>0.016879</td>\n",
       "      <td>-0.006920</td>\n",
       "    </tr>\n",
       "    <tr>\n",
       "      <th>plans_nunique</th>\n",
       "      <td>0.032533</td>\n",
       "      <td>0.325168</td>\n",
       "      <td>0.011536</td>\n",
       "      <td>-0.037313</td>\n",
       "      <td>0.013684</td>\n",
       "      <td>0.459125</td>\n",
       "      <td>0.302096</td>\n",
       "      <td>1.000000</td>\n",
       "      <td>-0.496070</td>\n",
       "      <td>0.022545</td>\n",
       "      <td>...</td>\n",
       "      <td>0.500776</td>\n",
       "      <td>-0.046877</td>\n",
       "      <td>0.058718</td>\n",
       "      <td>-0.004039</td>\n",
       "      <td>0.141994</td>\n",
       "      <td>0.026858</td>\n",
       "      <td>0.007651</td>\n",
       "      <td>-0.020850</td>\n",
       "      <td>-0.007232</td>\n",
       "      <td>-0.007232</td>\n",
       "    </tr>\n",
       "    <tr>\n",
       "      <th>city_1.0</th>\n",
       "      <td>-0.076498</td>\n",
       "      <td>-0.613260</td>\n",
       "      <td>-0.106411</td>\n",
       "      <td>0.172581</td>\n",
       "      <td>-0.009569</td>\n",
       "      <td>-0.132044</td>\n",
       "      <td>-0.286189</td>\n",
       "      <td>-0.496070</td>\n",
       "      <td>1.000000</td>\n",
       "      <td>-0.077759</td>\n",
       "      <td>...</td>\n",
       "      <td>-0.392078</td>\n",
       "      <td>0.039964</td>\n",
       "      <td>-0.083324</td>\n",
       "      <td>-0.045082</td>\n",
       "      <td>-0.228706</td>\n",
       "      <td>-0.046501</td>\n",
       "      <td>-0.011564</td>\n",
       "      <td>0.002707</td>\n",
       "      <td>-0.016627</td>\n",
       "      <td>0.006969</td>\n",
       "    </tr>\n",
       "    <tr>\n",
       "      <th>city_3.0</th>\n",
       "      <td>0.009654</td>\n",
       "      <td>0.038319</td>\n",
       "      <td>0.017335</td>\n",
       "      <td>-0.016821</td>\n",
       "      <td>0.013127</td>\n",
       "      <td>0.014506</td>\n",
       "      <td>0.025534</td>\n",
       "      <td>0.022545</td>\n",
       "      <td>-0.077759</td>\n",
       "      <td>1.000000</td>\n",
       "      <td>...</td>\n",
       "      <td>0.024772</td>\n",
       "      <td>-0.006890</td>\n",
       "      <td>-0.010122</td>\n",
       "      <td>0.024321</td>\n",
       "      <td>0.010146</td>\n",
       "      <td>-0.002058</td>\n",
       "      <td>-0.023726</td>\n",
       "      <td>-0.028895</td>\n",
       "      <td>-0.026175</td>\n",
       "      <td>-0.028420</td>\n",
       "    </tr>\n",
       "    <tr>\n",
       "      <th>city_4.0</th>\n",
       "      <td>0.025306</td>\n",
       "      <td>0.152165</td>\n",
       "      <td>0.007166</td>\n",
       "      <td>-0.050516</td>\n",
       "      <td>0.004879</td>\n",
       "      <td>0.031682</td>\n",
       "      <td>0.076637</td>\n",
       "      <td>0.086101</td>\n",
       "      <td>-0.257618</td>\n",
       "      <td>-0.020048</td>\n",
       "      <td>...</td>\n",
       "      <td>0.101951</td>\n",
       "      <td>-0.001464</td>\n",
       "      <td>0.026227</td>\n",
       "      <td>-0.009928</td>\n",
       "      <td>0.084247</td>\n",
       "      <td>0.008354</td>\n",
       "      <td>-0.003297</td>\n",
       "      <td>-0.006364</td>\n",
       "      <td>-0.016763</td>\n",
       "      <td>-0.006806</td>\n",
       "    </tr>\n",
       "    <tr>\n",
       "      <th>city_5.0</th>\n",
       "      <td>0.037408</td>\n",
       "      <td>0.200297</td>\n",
       "      <td>0.053434</td>\n",
       "      <td>-0.039704</td>\n",
       "      <td>0.016301</td>\n",
       "      <td>0.048792</td>\n",
       "      <td>0.068117</td>\n",
       "      <td>0.142449</td>\n",
       "      <td>-0.303495</td>\n",
       "      <td>-0.023618</td>\n",
       "      <td>...</td>\n",
       "      <td>0.114926</td>\n",
       "      <td>0.002345</td>\n",
       "      <td>0.024818</td>\n",
       "      <td>0.041150</td>\n",
       "      <td>0.056853</td>\n",
       "      <td>0.008017</td>\n",
       "      <td>0.008758</td>\n",
       "      <td>0.006993</td>\n",
       "      <td>-0.007211</td>\n",
       "      <td>-0.014840</td>\n",
       "    </tr>\n",
       "    <tr>\n",
       "      <th>city_6.0</th>\n",
       "      <td>0.019322</td>\n",
       "      <td>0.099630</td>\n",
       "      <td>0.018640</td>\n",
       "      <td>-0.014019</td>\n",
       "      <td>0.009206</td>\n",
       "      <td>0.005488</td>\n",
       "      <td>0.049052</td>\n",
       "      <td>0.103726</td>\n",
       "      <td>-0.180074</td>\n",
       "      <td>-0.014013</td>\n",
       "      <td>...</td>\n",
       "      <td>0.043478</td>\n",
       "      <td>0.010732</td>\n",
       "      <td>-0.003316</td>\n",
       "      <td>-0.008701</td>\n",
       "      <td>0.013036</td>\n",
       "      <td>-0.000053</td>\n",
       "      <td>0.018417</td>\n",
       "      <td>0.009790</td>\n",
       "      <td>0.014124</td>\n",
       "      <td>0.016094</td>\n",
       "    </tr>\n",
       "    <tr>\n",
       "      <th>city_7.0</th>\n",
       "      <td>-0.014830</td>\n",
       "      <td>0.042000</td>\n",
       "      <td>-0.007139</td>\n",
       "      <td>-0.011038</td>\n",
       "      <td>-0.010462</td>\n",
       "      <td>0.010799</td>\n",
       "      <td>-0.000561</td>\n",
       "      <td>0.051040</td>\n",
       "      <td>-0.055782</td>\n",
       "      <td>-0.004341</td>\n",
       "      <td>...</td>\n",
       "      <td>0.057556</td>\n",
       "      <td>0.003875</td>\n",
       "      <td>-0.013356</td>\n",
       "      <td>0.024630</td>\n",
       "      <td>0.018364</td>\n",
       "      <td>0.004247</td>\n",
       "      <td>-0.019751</td>\n",
       "      <td>-0.005905</td>\n",
       "      <td>-0.015992</td>\n",
       "      <td>0.001520</td>\n",
       "    </tr>\n",
       "    <tr>\n",
       "      <th>city_8.0</th>\n",
       "      <td>0.013570</td>\n",
       "      <td>0.061464</td>\n",
       "      <td>-0.012663</td>\n",
       "      <td>-0.053524</td>\n",
       "      <td>-0.007626</td>\n",
       "      <td>0.008100</td>\n",
       "      <td>0.037523</td>\n",
       "      <td>0.034075</td>\n",
       "      <td>-0.098938</td>\n",
       "      <td>-0.007699</td>\n",
       "      <td>...</td>\n",
       "      <td>0.018076</td>\n",
       "      <td>-0.005714</td>\n",
       "      <td>-0.000163</td>\n",
       "      <td>-0.007178</td>\n",
       "      <td>0.025581</td>\n",
       "      <td>0.004304</td>\n",
       "      <td>0.010393</td>\n",
       "      <td>0.023062</td>\n",
       "      <td>0.013857</td>\n",
       "      <td>0.014167</td>\n",
       "    </tr>\n",
       "    <tr>\n",
       "      <th>city_9.0</th>\n",
       "      <td>-0.017630</td>\n",
       "      <td>0.146332</td>\n",
       "      <td>0.017076</td>\n",
       "      <td>-0.037652</td>\n",
       "      <td>-0.007024</td>\n",
       "      <td>0.011710</td>\n",
       "      <td>0.035778</td>\n",
       "      <td>0.035405</td>\n",
       "      <td>-0.096920</td>\n",
       "      <td>-0.007542</td>\n",
       "      <td>...</td>\n",
       "      <td>0.037388</td>\n",
       "      <td>-0.000170</td>\n",
       "      <td>0.049087</td>\n",
       "      <td>-0.006024</td>\n",
       "      <td>0.042431</td>\n",
       "      <td>0.002752</td>\n",
       "      <td>0.006698</td>\n",
       "      <td>0.016340</td>\n",
       "      <td>0.001117</td>\n",
       "      <td>-0.006079</td>\n",
       "    </tr>\n",
       "    <tr>\n",
       "      <th>city_10.0</th>\n",
       "      <td>0.016335</td>\n",
       "      <td>0.056441</td>\n",
       "      <td>0.019148</td>\n",
       "      <td>-0.008550</td>\n",
       "      <td>-0.006400</td>\n",
       "      <td>0.029637</td>\n",
       "      <td>0.038146</td>\n",
       "      <td>0.080335</td>\n",
       "      <td>-0.094860</td>\n",
       "      <td>-0.007382</td>\n",
       "      <td>...</td>\n",
       "      <td>0.049209</td>\n",
       "      <td>0.001620</td>\n",
       "      <td>0.011828</td>\n",
       "      <td>0.003081</td>\n",
       "      <td>0.038196</td>\n",
       "      <td>0.027856</td>\n",
       "      <td>0.001346</td>\n",
       "      <td>-0.002809</td>\n",
       "      <td>0.007406</td>\n",
       "      <td>-0.004374</td>\n",
       "    </tr>\n",
       "    <tr>\n",
       "      <th>city_11.0</th>\n",
       "      <td>0.014449</td>\n",
       "      <td>0.062117</td>\n",
       "      <td>-0.015335</td>\n",
       "      <td>-0.020267</td>\n",
       "      <td>0.004727</td>\n",
       "      <td>0.020095</td>\n",
       "      <td>0.052944</td>\n",
       "      <td>0.084054</td>\n",
       "      <td>-0.119817</td>\n",
       "      <td>-0.009324</td>\n",
       "      <td>...</td>\n",
       "      <td>0.043099</td>\n",
       "      <td>-0.006052</td>\n",
       "      <td>0.003744</td>\n",
       "      <td>-0.000996</td>\n",
       "      <td>0.008093</td>\n",
       "      <td>-0.022057</td>\n",
       "      <td>0.014196</td>\n",
       "      <td>-0.012237</td>\n",
       "      <td>0.012496</td>\n",
       "      <td>0.014900</td>\n",
       "    </tr>\n",
       "    <tr>\n",
       "      <th>city_12.0</th>\n",
       "      <td>-0.001110</td>\n",
       "      <td>0.056616</td>\n",
       "      <td>-0.009684</td>\n",
       "      <td>-0.017629</td>\n",
       "      <td>-0.020855</td>\n",
       "      <td>0.018804</td>\n",
       "      <td>0.031678</td>\n",
       "      <td>0.044259</td>\n",
       "      <td>-0.111199</td>\n",
       "      <td>-0.008653</td>\n",
       "      <td>...</td>\n",
       "      <td>0.046417</td>\n",
       "      <td>0.000473</td>\n",
       "      <td>-0.000245</td>\n",
       "      <td>0.002935</td>\n",
       "      <td>0.029497</td>\n",
       "      <td>0.009156</td>\n",
       "      <td>0.018083</td>\n",
       "      <td>0.015659</td>\n",
       "      <td>0.015717</td>\n",
       "      <td>0.009233</td>\n",
       "    </tr>\n",
       "    <tr>\n",
       "      <th>city_13.0</th>\n",
       "      <td>0.029219</td>\n",
       "      <td>0.221535</td>\n",
       "      <td>0.057257</td>\n",
       "      <td>-0.080550</td>\n",
       "      <td>-0.009022</td>\n",
       "      <td>0.062812</td>\n",
       "      <td>0.132360</td>\n",
       "      <td>0.211184</td>\n",
       "      <td>-0.355611</td>\n",
       "      <td>-0.027673</td>\n",
       "      <td>...</td>\n",
       "      <td>0.178816</td>\n",
       "      <td>0.002417</td>\n",
       "      <td>0.032352</td>\n",
       "      <td>0.029864</td>\n",
       "      <td>0.088206</td>\n",
       "      <td>0.025224</td>\n",
       "      <td>-0.004930</td>\n",
       "      <td>0.001049</td>\n",
       "      <td>-0.001818</td>\n",
       "      <td>-0.020143</td>\n",
       "    </tr>\n",
       "    <tr>\n",
       "      <th>city_14.0</th>\n",
       "      <td>0.005254</td>\n",
       "      <td>0.089508</td>\n",
       "      <td>0.013716</td>\n",
       "      <td>-0.008449</td>\n",
       "      <td>-0.000767</td>\n",
       "      <td>0.031598</td>\n",
       "      <td>0.014795</td>\n",
       "      <td>0.067779</td>\n",
       "      <td>-0.154993</td>\n",
       "      <td>-0.012061</td>\n",
       "      <td>...</td>\n",
       "      <td>0.061534</td>\n",
       "      <td>-0.006714</td>\n",
       "      <td>0.006666</td>\n",
       "      <td>-0.003448</td>\n",
       "      <td>0.020239</td>\n",
       "      <td>0.026319</td>\n",
       "      <td>-0.000531</td>\n",
       "      <td>-0.002515</td>\n",
       "      <td>0.015254</td>\n",
       "      <td>0.022385</td>\n",
       "    </tr>\n",
       "    <tr>\n",
       "      <th>city_15.0</th>\n",
       "      <td>0.028894</td>\n",
       "      <td>0.132712</td>\n",
       "      <td>0.030994</td>\n",
       "      <td>-0.028497</td>\n",
       "      <td>0.021035</td>\n",
       "      <td>-0.000767</td>\n",
       "      <td>0.071244</td>\n",
       "      <td>0.110421</td>\n",
       "      <td>-0.228999</td>\n",
       "      <td>-0.017821</td>\n",
       "      <td>...</td>\n",
       "      <td>0.060564</td>\n",
       "      <td>-0.006445</td>\n",
       "      <td>0.003756</td>\n",
       "      <td>0.012822</td>\n",
       "      <td>0.034852</td>\n",
       "      <td>0.028821</td>\n",
       "      <td>-0.013841</td>\n",
       "      <td>-0.021515</td>\n",
       "      <td>-0.006538</td>\n",
       "      <td>0.000505</td>\n",
       "    </tr>\n",
       "    <tr>\n",
       "      <th>city_16.0</th>\n",
       "      <td>-0.008282</td>\n",
       "      <td>0.023867</td>\n",
       "      <td>-0.003987</td>\n",
       "      <td>0.011650</td>\n",
       "      <td>-0.005842</td>\n",
       "      <td>-0.003678</td>\n",
       "      <td>0.025673</td>\n",
       "      <td>0.007441</td>\n",
       "      <td>-0.031150</td>\n",
       "      <td>-0.002424</td>\n",
       "      <td>...</td>\n",
       "      <td>0.011327</td>\n",
       "      <td>0.002164</td>\n",
       "      <td>0.049436</td>\n",
       "      <td>-0.010412</td>\n",
       "      <td>0.034461</td>\n",
       "      <td>-0.007442</td>\n",
       "      <td>-0.017628</td>\n",
       "      <td>-0.003066</td>\n",
       "      <td>0.010691</td>\n",
       "      <td>-0.017529</td>\n",
       "    </tr>\n",
       "    <tr>\n",
       "      <th>city_17.0</th>\n",
       "      <td>-0.012457</td>\n",
       "      <td>0.042726</td>\n",
       "      <td>-0.010579</td>\n",
       "      <td>-0.005101</td>\n",
       "      <td>-0.015502</td>\n",
       "      <td>0.022954</td>\n",
       "      <td>-0.003518</td>\n",
       "      <td>0.029091</td>\n",
       "      <td>-0.082656</td>\n",
       "      <td>-0.006432</td>\n",
       "      <td>...</td>\n",
       "      <td>0.031081</td>\n",
       "      <td>-0.003691</td>\n",
       "      <td>0.011043</td>\n",
       "      <td>-0.008099</td>\n",
       "      <td>0.012446</td>\n",
       "      <td>0.004328</td>\n",
       "      <td>-0.010191</td>\n",
       "      <td>-0.008007</td>\n",
       "      <td>0.010432</td>\n",
       "      <td>0.007551</td>\n",
       "    </tr>\n",
       "    <tr>\n",
       "      <th>city_18.0</th>\n",
       "      <td>0.020196</td>\n",
       "      <td>0.061872</td>\n",
       "      <td>0.020732</td>\n",
       "      <td>-0.019793</td>\n",
       "      <td>-0.004729</td>\n",
       "      <td>0.022146</td>\n",
       "      <td>0.000480</td>\n",
       "      <td>0.042120</td>\n",
       "      <td>-0.089513</td>\n",
       "      <td>-0.006966</td>\n",
       "      <td>...</td>\n",
       "      <td>0.024726</td>\n",
       "      <td>-0.000319</td>\n",
       "      <td>-0.000004</td>\n",
       "      <td>0.010047</td>\n",
       "      <td>0.001167</td>\n",
       "      <td>0.016804</td>\n",
       "      <td>0.019032</td>\n",
       "      <td>0.004578</td>\n",
       "      <td>0.013183</td>\n",
       "      <td>0.017818</td>\n",
       "    </tr>\n",
       "    <tr>\n",
       "      <th>city_20.0</th>\n",
       "      <td>-0.008282</td>\n",
       "      <td>0.012651</td>\n",
       "      <td>-0.003987</td>\n",
       "      <td>-0.007351</td>\n",
       "      <td>-0.005842</td>\n",
       "      <td>-0.004429</td>\n",
       "      <td>-0.012125</td>\n",
       "      <td>-0.008997</td>\n",
       "      <td>-0.031150</td>\n",
       "      <td>-0.002424</td>\n",
       "      <td>...</td>\n",
       "      <td>0.004624</td>\n",
       "      <td>0.002164</td>\n",
       "      <td>0.011881</td>\n",
       "      <td>-0.009893</td>\n",
       "      <td>-0.004072</td>\n",
       "      <td>0.018018</td>\n",
       "      <td>0.012271</td>\n",
       "      <td>0.011550</td>\n",
       "      <td>0.004831</td>\n",
       "      <td>0.002456</td>\n",
       "    </tr>\n",
       "    <tr>\n",
       "      <th>city_21.0</th>\n",
       "      <td>-0.012457</td>\n",
       "      <td>0.036948</td>\n",
       "      <td>0.000576</td>\n",
       "      <td>-0.019506</td>\n",
       "      <td>0.010587</td>\n",
       "      <td>0.012713</td>\n",
       "      <td>0.039467</td>\n",
       "      <td>0.047784</td>\n",
       "      <td>-0.082656</td>\n",
       "      <td>-0.006432</td>\n",
       "      <td>...</td>\n",
       "      <td>0.044213</td>\n",
       "      <td>-0.128611</td>\n",
       "      <td>0.017293</td>\n",
       "      <td>0.006506</td>\n",
       "      <td>0.032806</td>\n",
       "      <td>-0.029398</td>\n",
       "      <td>-0.007973</td>\n",
       "      <td>-0.009630</td>\n",
       "      <td>-0.004856</td>\n",
       "      <td>-0.004964</td>\n",
       "    </tr>\n",
       "    <tr>\n",
       "      <th>city_22.0</th>\n",
       "      <td>0.000642</td>\n",
       "      <td>0.124369</td>\n",
       "      <td>0.025014</td>\n",
       "      <td>-0.037454</td>\n",
       "      <td>0.001688</td>\n",
       "      <td>0.017886</td>\n",
       "      <td>0.054117</td>\n",
       "      <td>0.114651</td>\n",
       "      <td>-0.228059</td>\n",
       "      <td>-0.017747</td>\n",
       "      <td>...</td>\n",
       "      <td>0.084778</td>\n",
       "      <td>-0.038152</td>\n",
       "      <td>0.036652</td>\n",
       "      <td>0.003180</td>\n",
       "      <td>0.074862</td>\n",
       "      <td>-0.003635</td>\n",
       "      <td>0.013907</td>\n",
       "      <td>0.003469</td>\n",
       "      <td>0.032423</td>\n",
       "      <td>-0.000100</td>\n",
       "    </tr>\n",
       "    <tr>\n",
       "      <th>gender_female</th>\n",
       "      <td>0.031763</td>\n",
       "      <td>0.386769</td>\n",
       "      <td>0.054538</td>\n",
       "      <td>-0.106039</td>\n",
       "      <td>-0.000515</td>\n",
       "      <td>0.067935</td>\n",
       "      <td>0.137184</td>\n",
       "      <td>0.251298</td>\n",
       "      <td>-0.500031</td>\n",
       "      <td>0.013567</td>\n",
       "      <td>...</td>\n",
       "      <td>0.193397</td>\n",
       "      <td>-0.023585</td>\n",
       "      <td>0.059396</td>\n",
       "      <td>0.028887</td>\n",
       "      <td>0.133726</td>\n",
       "      <td>0.024566</td>\n",
       "      <td>-0.011643</td>\n",
       "      <td>-0.008397</td>\n",
       "      <td>0.010122</td>\n",
       "      <td>0.011949</td>\n",
       "    </tr>\n",
       "    <tr>\n",
       "      <th>gender_male</th>\n",
       "      <td>0.053538</td>\n",
       "      <td>0.391253</td>\n",
       "      <td>0.040812</td>\n",
       "      <td>-0.106854</td>\n",
       "      <td>-0.007431</td>\n",
       "      <td>0.079420</td>\n",
       "      <td>0.128783</td>\n",
       "      <td>0.285568</td>\n",
       "      <td>-0.529841</td>\n",
       "      <td>0.066369</td>\n",
       "      <td>...</td>\n",
       "      <td>0.231136</td>\n",
       "      <td>-0.021855</td>\n",
       "      <td>0.038264</td>\n",
       "      <td>0.035149</td>\n",
       "      <td>0.131155</td>\n",
       "      <td>0.030324</td>\n",
       "      <td>0.018793</td>\n",
       "      <td>0.018656</td>\n",
       "      <td>0.013656</td>\n",
       "      <td>-0.010866</td>\n",
       "    </tr>\n",
       "    <tr>\n",
       "      <th>num_of_record</th>\n",
       "      <td>-0.041495</td>\n",
       "      <td>0.240334</td>\n",
       "      <td>0.076182</td>\n",
       "      <td>-0.005425</td>\n",
       "      <td>-0.018355</td>\n",
       "      <td>0.561358</td>\n",
       "      <td>0.150190</td>\n",
       "      <td>0.500776</td>\n",
       "      <td>-0.392078</td>\n",
       "      <td>0.024772</td>\n",
       "      <td>...</td>\n",
       "      <td>1.000000</td>\n",
       "      <td>-0.051833</td>\n",
       "      <td>0.076129</td>\n",
       "      <td>0.121990</td>\n",
       "      <td>0.340924</td>\n",
       "      <td>-0.007071</td>\n",
       "      <td>-0.002638</td>\n",
       "      <td>-0.006282</td>\n",
       "      <td>-0.009560</td>\n",
       "      <td>-0.012543</td>\n",
       "    </tr>\n",
       "    <tr>\n",
       "      <th>average_sec</th>\n",
       "      <td>0.000580</td>\n",
       "      <td>-0.022030</td>\n",
       "      <td>0.006015</td>\n",
       "      <td>0.004607</td>\n",
       "      <td>-0.000813</td>\n",
       "      <td>-0.037306</td>\n",
       "      <td>-0.035995</td>\n",
       "      <td>-0.046877</td>\n",
       "      <td>0.039964</td>\n",
       "      <td>-0.006890</td>\n",
       "      <td>...</td>\n",
       "      <td>-0.051833</td>\n",
       "      <td>1.000000</td>\n",
       "      <td>0.006666</td>\n",
       "      <td>-0.031268</td>\n",
       "      <td>-0.018366</td>\n",
       "      <td>0.000120</td>\n",
       "      <td>-0.000609</td>\n",
       "      <td>0.003497</td>\n",
       "      <td>-0.004615</td>\n",
       "      <td>0.012768</td>\n",
       "    </tr>\n",
       "    <tr>\n",
       "      <th>Repeat_songs</th>\n",
       "      <td>-0.016925</td>\n",
       "      <td>0.082392</td>\n",
       "      <td>0.002164</td>\n",
       "      <td>-0.003845</td>\n",
       "      <td>-0.023812</td>\n",
       "      <td>0.038607</td>\n",
       "      <td>0.005829</td>\n",
       "      <td>0.058718</td>\n",
       "      <td>-0.083324</td>\n",
       "      <td>-0.010122</td>\n",
       "      <td>...</td>\n",
       "      <td>0.076129</td>\n",
       "      <td>0.006666</td>\n",
       "      <td>1.000000</td>\n",
       "      <td>-0.458287</td>\n",
       "      <td>0.616473</td>\n",
       "      <td>0.029433</td>\n",
       "      <td>-0.014983</td>\n",
       "      <td>-0.021883</td>\n",
       "      <td>-0.005946</td>\n",
       "      <td>-0.013271</td>\n",
       "    </tr>\n",
       "    <tr>\n",
       "      <th>Quick_scan</th>\n",
       "      <td>0.039278</td>\n",
       "      <td>-0.004527</td>\n",
       "      <td>0.021066</td>\n",
       "      <td>-0.107382</td>\n",
       "      <td>0.028086</td>\n",
       "      <td>-0.064981</td>\n",
       "      <td>0.075463</td>\n",
       "      <td>-0.004039</td>\n",
       "      <td>-0.045082</td>\n",
       "      <td>0.024321</td>\n",
       "      <td>...</td>\n",
       "      <td>0.121990</td>\n",
       "      <td>-0.031268</td>\n",
       "      <td>-0.458287</td>\n",
       "      <td>1.000000</td>\n",
       "      <td>0.063734</td>\n",
       "      <td>0.001275</td>\n",
       "      <td>0.037284</td>\n",
       "      <td>0.018159</td>\n",
       "      <td>0.009664</td>\n",
       "      <td>-0.010553</td>\n",
       "    </tr>\n",
       "    <tr>\n",
       "      <th>Playlist_usage</th>\n",
       "      <td>0.005675</td>\n",
       "      <td>0.150984</td>\n",
       "      <td>0.042792</td>\n",
       "      <td>-0.086282</td>\n",
       "      <td>-0.013774</td>\n",
       "      <td>0.052512</td>\n",
       "      <td>0.110634</td>\n",
       "      <td>0.141994</td>\n",
       "      <td>-0.228706</td>\n",
       "      <td>0.010146</td>\n",
       "      <td>...</td>\n",
       "      <td>0.340924</td>\n",
       "      <td>-0.018366</td>\n",
       "      <td>0.616473</td>\n",
       "      <td>0.063734</td>\n",
       "      <td>1.000000</td>\n",
       "      <td>0.045840</td>\n",
       "      <td>0.016883</td>\n",
       "      <td>0.005374</td>\n",
       "      <td>0.006073</td>\n",
       "      <td>-0.010583</td>\n",
       "    </tr>\n",
       "    <tr>\n",
       "      <th>num_100</th>\n",
       "      <td>0.078381</td>\n",
       "      <td>0.033756</td>\n",
       "      <td>0.021691</td>\n",
       "      <td>-0.023786</td>\n",
       "      <td>0.052021</td>\n",
       "      <td>-0.012295</td>\n",
       "      <td>0.029446</td>\n",
       "      <td>0.026858</td>\n",
       "      <td>-0.046501</td>\n",
       "      <td>-0.002058</td>\n",
       "      <td>...</td>\n",
       "      <td>-0.007071</td>\n",
       "      <td>0.000120</td>\n",
       "      <td>0.029433</td>\n",
       "      <td>0.001275</td>\n",
       "      <td>0.045840</td>\n",
       "      <td>1.000000</td>\n",
       "      <td>0.240562</td>\n",
       "      <td>0.182614</td>\n",
       "      <td>0.199763</td>\n",
       "      <td>0.186157</td>\n",
       "    </tr>\n",
       "    <tr>\n",
       "      <th>num_25</th>\n",
       "      <td>0.045628</td>\n",
       "      <td>0.012929</td>\n",
       "      <td>0.030892</td>\n",
       "      <td>-0.021431</td>\n",
       "      <td>0.021070</td>\n",
       "      <td>-0.025498</td>\n",
       "      <td>0.037920</td>\n",
       "      <td>0.007651</td>\n",
       "      <td>-0.011564</td>\n",
       "      <td>-0.023726</td>\n",
       "      <td>...</td>\n",
       "      <td>-0.002638</td>\n",
       "      <td>-0.000609</td>\n",
       "      <td>-0.014983</td>\n",
       "      <td>0.037284</td>\n",
       "      <td>0.016883</td>\n",
       "      <td>0.240562</td>\n",
       "      <td>1.000000</td>\n",
       "      <td>0.503194</td>\n",
       "      <td>0.418383</td>\n",
       "      <td>0.349554</td>\n",
       "    </tr>\n",
       "    <tr>\n",
       "      <th>num_50</th>\n",
       "      <td>0.026718</td>\n",
       "      <td>0.013659</td>\n",
       "      <td>0.010245</td>\n",
       "      <td>-0.010637</td>\n",
       "      <td>0.012687</td>\n",
       "      <td>-0.035267</td>\n",
       "      <td>0.005777</td>\n",
       "      <td>-0.020850</td>\n",
       "      <td>0.002707</td>\n",
       "      <td>-0.028895</td>\n",
       "      <td>...</td>\n",
       "      <td>-0.006282</td>\n",
       "      <td>0.003497</td>\n",
       "      <td>-0.021883</td>\n",
       "      <td>0.018159</td>\n",
       "      <td>0.005374</td>\n",
       "      <td>0.182614</td>\n",
       "      <td>0.503194</td>\n",
       "      <td>1.000000</td>\n",
       "      <td>0.482210</td>\n",
       "      <td>0.352833</td>\n",
       "    </tr>\n",
       "    <tr>\n",
       "      <th>num_75</th>\n",
       "      <td>0.040056</td>\n",
       "      <td>0.014803</td>\n",
       "      <td>0.015510</td>\n",
       "      <td>-0.019086</td>\n",
       "      <td>0.022783</td>\n",
       "      <td>-0.028029</td>\n",
       "      <td>0.016879</td>\n",
       "      <td>-0.007232</td>\n",
       "      <td>-0.016627</td>\n",
       "      <td>-0.026175</td>\n",
       "      <td>...</td>\n",
       "      <td>-0.009560</td>\n",
       "      <td>-0.004615</td>\n",
       "      <td>-0.005946</td>\n",
       "      <td>0.009664</td>\n",
       "      <td>0.006073</td>\n",
       "      <td>0.199763</td>\n",
       "      <td>0.418383</td>\n",
       "      <td>0.482210</td>\n",
       "      <td>1.000000</td>\n",
       "      <td>0.382084</td>\n",
       "    </tr>\n",
       "    <tr>\n",
       "      <th>num_985</th>\n",
       "      <td>0.034082</td>\n",
       "      <td>-0.000190</td>\n",
       "      <td>-0.000669</td>\n",
       "      <td>0.008428</td>\n",
       "      <td>0.027585</td>\n",
       "      <td>-0.001303</td>\n",
       "      <td>-0.006920</td>\n",
       "      <td>-0.007232</td>\n",
       "      <td>0.006969</td>\n",
       "      <td>-0.028420</td>\n",
       "      <td>...</td>\n",
       "      <td>-0.012543</td>\n",
       "      <td>0.012768</td>\n",
       "      <td>-0.013271</td>\n",
       "      <td>-0.010553</td>\n",
       "      <td>-0.010583</td>\n",
       "      <td>0.186157</td>\n",
       "      <td>0.349554</td>\n",
       "      <td>0.352833</td>\n",
       "      <td>0.382084</td>\n",
       "      <td>1.000000</td>\n",
       "    </tr>\n",
       "  </tbody>\n",
       "</table>\n",
       "<p>40 rows × 40 columns</p>\n",
       "</div>"
      ],
      "text/plain": [
       "                   is_churn        bd  payment_plan_days  is_auto_renew  \\\n",
       "is_churn           1.000000  0.028426           0.252333      -0.370103   \n",
       "bd                 0.028426  1.000000           0.049594      -0.066421   \n",
       "payment_plan_days  0.252333  0.049594           1.000000      -0.342218   \n",
       "is_auto_renew     -0.370103 -0.066421          -0.342218       1.000000   \n",
       "is_cancel          0.532810  0.008381          -0.023985       0.070088   \n",
       "transaction_num   -0.164928  0.107316          -0.203714       0.300210   \n",
       "payment_nunique    0.125720  0.119144           0.044238      -0.276671   \n",
       "plans_nunique      0.032533  0.325168           0.011536      -0.037313   \n",
       "city_1.0          -0.076498 -0.613260          -0.106411       0.172581   \n",
       "city_3.0           0.009654  0.038319           0.017335      -0.016821   \n",
       "city_4.0           0.025306  0.152165           0.007166      -0.050516   \n",
       "city_5.0           0.037408  0.200297           0.053434      -0.039704   \n",
       "city_6.0           0.019322  0.099630           0.018640      -0.014019   \n",
       "city_7.0          -0.014830  0.042000          -0.007139      -0.011038   \n",
       "city_8.0           0.013570  0.061464          -0.012663      -0.053524   \n",
       "city_9.0          -0.017630  0.146332           0.017076      -0.037652   \n",
       "city_10.0          0.016335  0.056441           0.019148      -0.008550   \n",
       "city_11.0          0.014449  0.062117          -0.015335      -0.020267   \n",
       "city_12.0         -0.001110  0.056616          -0.009684      -0.017629   \n",
       "city_13.0          0.029219  0.221535           0.057257      -0.080550   \n",
       "city_14.0          0.005254  0.089508           0.013716      -0.008449   \n",
       "city_15.0          0.028894  0.132712           0.030994      -0.028497   \n",
       "city_16.0         -0.008282  0.023867          -0.003987       0.011650   \n",
       "city_17.0         -0.012457  0.042726          -0.010579      -0.005101   \n",
       "city_18.0          0.020196  0.061872           0.020732      -0.019793   \n",
       "city_20.0         -0.008282  0.012651          -0.003987      -0.007351   \n",
       "city_21.0         -0.012457  0.036948           0.000576      -0.019506   \n",
       "city_22.0          0.000642  0.124369           0.025014      -0.037454   \n",
       "gender_female      0.031763  0.386769           0.054538      -0.106039   \n",
       "gender_male        0.053538  0.391253           0.040812      -0.106854   \n",
       "num_of_record     -0.041495  0.240334           0.076182      -0.005425   \n",
       "average_sec        0.000580 -0.022030           0.006015       0.004607   \n",
       "Repeat_songs      -0.016925  0.082392           0.002164      -0.003845   \n",
       "Quick_scan         0.039278 -0.004527           0.021066      -0.107382   \n",
       "Playlist_usage     0.005675  0.150984           0.042792      -0.086282   \n",
       "num_100            0.078381  0.033756           0.021691      -0.023786   \n",
       "num_25             0.045628  0.012929           0.030892      -0.021431   \n",
       "num_50             0.026718  0.013659           0.010245      -0.010637   \n",
       "num_75             0.040056  0.014803           0.015510      -0.019086   \n",
       "num_985            0.034082 -0.000190          -0.000669       0.008428   \n",
       "\n",
       "                   is_cancel  transaction_num  payment_nunique  plans_nunique  \\\n",
       "is_churn            0.532810        -0.164928         0.125720       0.032533   \n",
       "bd                  0.008381         0.107316         0.119144       0.325168   \n",
       "payment_plan_days  -0.023985        -0.203714         0.044238       0.011536   \n",
       "is_auto_renew       0.070088         0.300210        -0.276671      -0.037313   \n",
       "is_cancel           1.000000         0.013473         0.020179       0.013684   \n",
       "transaction_num     0.013473         1.000000        -0.054679       0.459125   \n",
       "payment_nunique     0.020179        -0.054679         1.000000       0.302096   \n",
       "plans_nunique       0.013684         0.459125         0.302096       1.000000   \n",
       "city_1.0           -0.009569        -0.132044        -0.286189      -0.496070   \n",
       "city_3.0            0.013127         0.014506         0.025534       0.022545   \n",
       "city_4.0            0.004879         0.031682         0.076637       0.086101   \n",
       "city_5.0            0.016301         0.048792         0.068117       0.142449   \n",
       "city_6.0            0.009206         0.005488         0.049052       0.103726   \n",
       "city_7.0           -0.010462         0.010799        -0.000561       0.051040   \n",
       "city_8.0           -0.007626         0.008100         0.037523       0.034075   \n",
       "city_9.0           -0.007024         0.011710         0.035778       0.035405   \n",
       "city_10.0          -0.006400         0.029637         0.038146       0.080335   \n",
       "city_11.0           0.004727         0.020095         0.052944       0.084054   \n",
       "city_12.0          -0.020855         0.018804         0.031678       0.044259   \n",
       "city_13.0          -0.009022         0.062812         0.132360       0.211184   \n",
       "city_14.0          -0.000767         0.031598         0.014795       0.067779   \n",
       "city_15.0           0.021035        -0.000767         0.071244       0.110421   \n",
       "city_16.0          -0.005842        -0.003678         0.025673       0.007441   \n",
       "city_17.0          -0.015502         0.022954        -0.003518       0.029091   \n",
       "city_18.0          -0.004729         0.022146         0.000480       0.042120   \n",
       "city_20.0          -0.005842        -0.004429        -0.012125      -0.008997   \n",
       "city_21.0           0.010587         0.012713         0.039467       0.047784   \n",
       "city_22.0           0.001688         0.017886         0.054117       0.114651   \n",
       "gender_female      -0.000515         0.067935         0.137184       0.251298   \n",
       "gender_male        -0.007431         0.079420         0.128783       0.285568   \n",
       "num_of_record      -0.018355         0.561358         0.150190       0.500776   \n",
       "average_sec        -0.000813        -0.037306        -0.035995      -0.046877   \n",
       "Repeat_songs       -0.023812         0.038607         0.005829       0.058718   \n",
       "Quick_scan          0.028086        -0.064981         0.075463      -0.004039   \n",
       "Playlist_usage     -0.013774         0.052512         0.110634       0.141994   \n",
       "num_100             0.052021        -0.012295         0.029446       0.026858   \n",
       "num_25              0.021070        -0.025498         0.037920       0.007651   \n",
       "num_50              0.012687        -0.035267         0.005777      -0.020850   \n",
       "num_75              0.022783        -0.028029         0.016879      -0.007232   \n",
       "num_985             0.027585        -0.001303        -0.006920      -0.007232   \n",
       "\n",
       "                   city_1.0  city_3.0    ...     num_of_record  average_sec  \\\n",
       "is_churn          -0.076498  0.009654    ...         -0.041495     0.000580   \n",
       "bd                -0.613260  0.038319    ...          0.240334    -0.022030   \n",
       "payment_plan_days -0.106411  0.017335    ...          0.076182     0.006015   \n",
       "is_auto_renew      0.172581 -0.016821    ...         -0.005425     0.004607   \n",
       "is_cancel         -0.009569  0.013127    ...         -0.018355    -0.000813   \n",
       "transaction_num   -0.132044  0.014506    ...          0.561358    -0.037306   \n",
       "payment_nunique   -0.286189  0.025534    ...          0.150190    -0.035995   \n",
       "plans_nunique     -0.496070  0.022545    ...          0.500776    -0.046877   \n",
       "city_1.0           1.000000 -0.077759    ...         -0.392078     0.039964   \n",
       "city_3.0          -0.077759  1.000000    ...          0.024772    -0.006890   \n",
       "city_4.0          -0.257618 -0.020048    ...          0.101951    -0.001464   \n",
       "city_5.0          -0.303495 -0.023618    ...          0.114926     0.002345   \n",
       "city_6.0          -0.180074 -0.014013    ...          0.043478     0.010732   \n",
       "city_7.0          -0.055782 -0.004341    ...          0.057556     0.003875   \n",
       "city_8.0          -0.098938 -0.007699    ...          0.018076    -0.005714   \n",
       "city_9.0          -0.096920 -0.007542    ...          0.037388    -0.000170   \n",
       "city_10.0         -0.094860 -0.007382    ...          0.049209     0.001620   \n",
       "city_11.0         -0.119817 -0.009324    ...          0.043099    -0.006052   \n",
       "city_12.0         -0.111199 -0.008653    ...          0.046417     0.000473   \n",
       "city_13.0         -0.355611 -0.027673    ...          0.178816     0.002417   \n",
       "city_14.0         -0.154993 -0.012061    ...          0.061534    -0.006714   \n",
       "city_15.0         -0.228999 -0.017821    ...          0.060564    -0.006445   \n",
       "city_16.0         -0.031150 -0.002424    ...          0.011327     0.002164   \n",
       "city_17.0         -0.082656 -0.006432    ...          0.031081    -0.003691   \n",
       "city_18.0         -0.089513 -0.006966    ...          0.024726    -0.000319   \n",
       "city_20.0         -0.031150 -0.002424    ...          0.004624     0.002164   \n",
       "city_21.0         -0.082656 -0.006432    ...          0.044213    -0.128611   \n",
       "city_22.0         -0.228059 -0.017747    ...          0.084778    -0.038152   \n",
       "gender_female     -0.500031  0.013567    ...          0.193397    -0.023585   \n",
       "gender_male       -0.529841  0.066369    ...          0.231136    -0.021855   \n",
       "num_of_record     -0.392078  0.024772    ...          1.000000    -0.051833   \n",
       "average_sec        0.039964 -0.006890    ...         -0.051833     1.000000   \n",
       "Repeat_songs      -0.083324 -0.010122    ...          0.076129     0.006666   \n",
       "Quick_scan        -0.045082  0.024321    ...          0.121990    -0.031268   \n",
       "Playlist_usage    -0.228706  0.010146    ...          0.340924    -0.018366   \n",
       "num_100           -0.046501 -0.002058    ...         -0.007071     0.000120   \n",
       "num_25            -0.011564 -0.023726    ...         -0.002638    -0.000609   \n",
       "num_50             0.002707 -0.028895    ...         -0.006282     0.003497   \n",
       "num_75            -0.016627 -0.026175    ...         -0.009560    -0.004615   \n",
       "num_985            0.006969 -0.028420    ...         -0.012543     0.012768   \n",
       "\n",
       "                   Repeat_songs  Quick_scan  Playlist_usage   num_100  \\\n",
       "is_churn              -0.016925    0.039278        0.005675  0.078381   \n",
       "bd                     0.082392   -0.004527        0.150984  0.033756   \n",
       "payment_plan_days      0.002164    0.021066        0.042792  0.021691   \n",
       "is_auto_renew         -0.003845   -0.107382       -0.086282 -0.023786   \n",
       "is_cancel             -0.023812    0.028086       -0.013774  0.052021   \n",
       "transaction_num        0.038607   -0.064981        0.052512 -0.012295   \n",
       "payment_nunique        0.005829    0.075463        0.110634  0.029446   \n",
       "plans_nunique          0.058718   -0.004039        0.141994  0.026858   \n",
       "city_1.0              -0.083324   -0.045082       -0.228706 -0.046501   \n",
       "city_3.0              -0.010122    0.024321        0.010146 -0.002058   \n",
       "city_4.0               0.026227   -0.009928        0.084247  0.008354   \n",
       "city_5.0               0.024818    0.041150        0.056853  0.008017   \n",
       "city_6.0              -0.003316   -0.008701        0.013036 -0.000053   \n",
       "city_7.0              -0.013356    0.024630        0.018364  0.004247   \n",
       "city_8.0              -0.000163   -0.007178        0.025581  0.004304   \n",
       "city_9.0               0.049087   -0.006024        0.042431  0.002752   \n",
       "city_10.0              0.011828    0.003081        0.038196  0.027856   \n",
       "city_11.0              0.003744   -0.000996        0.008093 -0.022057   \n",
       "city_12.0             -0.000245    0.002935        0.029497  0.009156   \n",
       "city_13.0              0.032352    0.029864        0.088206  0.025224   \n",
       "city_14.0              0.006666   -0.003448        0.020239  0.026319   \n",
       "city_15.0              0.003756    0.012822        0.034852  0.028821   \n",
       "city_16.0              0.049436   -0.010412        0.034461 -0.007442   \n",
       "city_17.0              0.011043   -0.008099        0.012446  0.004328   \n",
       "city_18.0             -0.000004    0.010047        0.001167  0.016804   \n",
       "city_20.0              0.011881   -0.009893       -0.004072  0.018018   \n",
       "city_21.0              0.017293    0.006506        0.032806 -0.029398   \n",
       "city_22.0              0.036652    0.003180        0.074862 -0.003635   \n",
       "gender_female          0.059396    0.028887        0.133726  0.024566   \n",
       "gender_male            0.038264    0.035149        0.131155  0.030324   \n",
       "num_of_record          0.076129    0.121990        0.340924 -0.007071   \n",
       "average_sec            0.006666   -0.031268       -0.018366  0.000120   \n",
       "Repeat_songs           1.000000   -0.458287        0.616473  0.029433   \n",
       "Quick_scan            -0.458287    1.000000        0.063734  0.001275   \n",
       "Playlist_usage         0.616473    0.063734        1.000000  0.045840   \n",
       "num_100                0.029433    0.001275        0.045840  1.000000   \n",
       "num_25                -0.014983    0.037284        0.016883  0.240562   \n",
       "num_50                -0.021883    0.018159        0.005374  0.182614   \n",
       "num_75                -0.005946    0.009664        0.006073  0.199763   \n",
       "num_985               -0.013271   -0.010553       -0.010583  0.186157   \n",
       "\n",
       "                     num_25    num_50    num_75   num_985  \n",
       "is_churn           0.045628  0.026718  0.040056  0.034082  \n",
       "bd                 0.012929  0.013659  0.014803 -0.000190  \n",
       "payment_plan_days  0.030892  0.010245  0.015510 -0.000669  \n",
       "is_auto_renew     -0.021431 -0.010637 -0.019086  0.008428  \n",
       "is_cancel          0.021070  0.012687  0.022783  0.027585  \n",
       "transaction_num   -0.025498 -0.035267 -0.028029 -0.001303  \n",
       "payment_nunique    0.037920  0.005777  0.016879 -0.006920  \n",
       "plans_nunique      0.007651 -0.020850 -0.007232 -0.007232  \n",
       "city_1.0          -0.011564  0.002707 -0.016627  0.006969  \n",
       "city_3.0          -0.023726 -0.028895 -0.026175 -0.028420  \n",
       "city_4.0          -0.003297 -0.006364 -0.016763 -0.006806  \n",
       "city_5.0           0.008758  0.006993 -0.007211 -0.014840  \n",
       "city_6.0           0.018417  0.009790  0.014124  0.016094  \n",
       "city_7.0          -0.019751 -0.005905 -0.015992  0.001520  \n",
       "city_8.0           0.010393  0.023062  0.013857  0.014167  \n",
       "city_9.0           0.006698  0.016340  0.001117 -0.006079  \n",
       "city_10.0          0.001346 -0.002809  0.007406 -0.004374  \n",
       "city_11.0          0.014196 -0.012237  0.012496  0.014900  \n",
       "city_12.0          0.018083  0.015659  0.015717  0.009233  \n",
       "city_13.0         -0.004930  0.001049 -0.001818 -0.020143  \n",
       "city_14.0         -0.000531 -0.002515  0.015254  0.022385  \n",
       "city_15.0         -0.013841 -0.021515 -0.006538  0.000505  \n",
       "city_16.0         -0.017628 -0.003066  0.010691 -0.017529  \n",
       "city_17.0         -0.010191 -0.008007  0.010432  0.007551  \n",
       "city_18.0          0.019032  0.004578  0.013183  0.017818  \n",
       "city_20.0          0.012271  0.011550  0.004831  0.002456  \n",
       "city_21.0         -0.007973 -0.009630 -0.004856 -0.004964  \n",
       "city_22.0          0.013907  0.003469  0.032423 -0.000100  \n",
       "gender_female     -0.011643 -0.008397  0.010122  0.011949  \n",
       "gender_male        0.018793  0.018656  0.013656 -0.010866  \n",
       "num_of_record     -0.002638 -0.006282 -0.009560 -0.012543  \n",
       "average_sec       -0.000609  0.003497 -0.004615  0.012768  \n",
       "Repeat_songs      -0.014983 -0.021883 -0.005946 -0.013271  \n",
       "Quick_scan         0.037284  0.018159  0.009664 -0.010553  \n",
       "Playlist_usage     0.016883  0.005374  0.006073 -0.010583  \n",
       "num_100            0.240562  0.182614  0.199763  0.186157  \n",
       "num_25             1.000000  0.503194  0.418383  0.349554  \n",
       "num_50             0.503194  1.000000  0.482210  0.352833  \n",
       "num_75             0.418383  0.482210  1.000000  0.382084  \n",
       "num_985            0.349554  0.352833  0.382084  1.000000  \n",
       "\n",
       "[40 rows x 40 columns]"
      ]
     },
     "execution_count": 33,
     "metadata": {},
     "output_type": "execute_result"
    }
   ],
   "source": [
    "corr"
   ]
  },
  {
   "cell_type": "code",
   "execution_count": 34,
   "metadata": {
    "collapsed": false,
    "deletable": true,
    "editable": true
   },
   "outputs": [
    {
     "data": {
      "text/plain": [
       "<matplotlib.axes._subplots.AxesSubplot at 0x13080128>"
      ]
     },
     "execution_count": 34,
     "metadata": {},
     "output_type": "execute_result"
    },
    {
     "data": {
      "image/png": "[encoded data removed]",
      "text/plain": [
       "<matplotlib.figure.Figure at 0x1306cc18>"
      ]
     },
     "metadata": {},
     "output_type": "display_data"
    }
   ],
   "source": [
    "sns.set(style=\"white\")\n",
    "\n",
    "# Generate a mask for the upper triangle\n",
    "mask = np.zeros_like(corr, dtype=np.bool)\n",
    "mask[np.triu_indices_from(mask)] = True\n",
    "\n",
    "# Set up the matplotlib figure\n",
    "f, ax = plt.subplots(figsize=(11, 9))\n",
    "\n",
    "# Generate a custom diverging colormap\n",
    "cmap = sns.diverging_palette(220, 10, as_cmap=True)\n",
    "\n",
    "# Draw the heatmap with the mask and correct aspect ratio\n",
    "sns.heatmap(corr, mask=mask, cmap=cmap, vmax=.3, center=0,\n",
    "            square=True, linewidths=.5, cbar_kws={\"shrink\": .5})"
   ]
  },
  {
   "cell_type": "markdown",
   "metadata": {
    "collapsed": true,
    "deletable": true,
    "editable": true
   },
   "source": [
    "# Classification"
   ]
  },
  {
   "cell_type": "code",
   "execution_count": 35,
   "metadata": {
    "collapsed": false,
    "deletable": true,
    "editable": true
   },
   "outputs": [],
   "source": [
    "temp_subsetnodates = temp2.drop(['registration_init_time','expiration_date','transaction_date','membership_expire_date'], axis=1)\n",
    "temp_subsetnodates.fillna(0, inplace=True)"
   ]
  },
  {
   "cell_type": "code",
   "execution_count": 36,
   "metadata": {
    "collapsed": false,
    "deletable": true,
    "editable": true
   },
   "outputs": [],
   "source": [
    "X = temp_subsetnodates.drop(['msno', 'is_churn'], axis=1)\n",
    "Y = temp_subsetnodates.is_churn"
   ]
  },
  {
   "cell_type": "markdown",
   "metadata": {
    "collapsed": true,
    "deletable": true,
    "editable": true
   },
   "source": [
    "## Decision Tree"
   ]
  },
  {
   "cell_type": "code",
   "execution_count": 37,
   "metadata": {
    "collapsed": false,
    "deletable": true,
    "editable": true,
    "scrolled": true
   },
   "outputs": [
    {
     "data": {
      "text/plain": [
       "DecisionTreeClassifier(class_weight=None, criterion='gini', max_depth=3,\n",
       "            max_features=None, max_leaf_nodes=None,\n",
       "            min_impurity_decrease=0.0, min_impurity_split=None,\n",
       "            min_samples_leaf=1, min_samples_split=2,\n",
       "            min_weight_fraction_leaf=0.0, presort=False, random_state=None,\n",
       "            splitter='best')"
      ]
     },
     "execution_count": 37,
     "metadata": {},
     "output_type": "execute_result"
    }
   ],
   "source": [
    "dt = tree.DecisionTreeClassifier(max_depth=3)\n",
    "dt.fit(X,Y)"
   ]
  },
  {
   "cell_type": "code",
   "execution_count": 38,
   "metadata": {
    "collapsed": false,
    "deletable": true,
    "editable": true,
    "scrolled": false
   },
   "outputs": [
    {
     "data": {
      "image/png": "[encoded data removed]",
      "text/plain": [
       "<IPython.core.display.Image object>"
      ]
     },
     "execution_count": 38,
     "metadata": {},
     "output_type": "execute_result"
    }
   ],
   "source": [
    "# This code will visualize a decision tree dt, trained with the attributes in X and the class labels in Y\n",
    "dt_feature_names = list(X.columns)\n",
    "dt_target_names = np.array(Y.unique(),dtype=np.string_) \n",
    "tree.export_graphviz(dt, out_file='tree.dot', \n",
    "    feature_names=dt_feature_names, class_names=dt_target_names,\n",
    "    filled=True)  \n",
    "graph = pydotplus.graph_from_dot_file('tree.dot')\n",
    "Image(graph.create_png())"
   ]
  },
  {
   "cell_type": "markdown",
   "metadata": {
    "deletable": true,
    "editable": true
   },
   "source": [
    "## Clustering"
   ]
  },
  {
   "cell_type": "code",
   "execution_count": 39,
   "metadata": {
    "collapsed": true,
    "deletable": true,
    "editable": true
   },
   "outputs": [],
   "source": [
    "from sklearn.cluster import KMeans"
   ]
  },
  {
   "cell_type": "code",
   "execution_count": 40,
   "metadata": {
    "collapsed": true,
    "deletable": true,
    "editable": true
   },
   "outputs": [],
   "source": [
    "temp_cluster = temp_subsetnodates.drop(['msno'], axis=1)"
   ]
  },
  {
   "cell_type": "code",
   "execution_count": 41,
   "metadata": {
    "collapsed": false,
    "deletable": true,
    "editable": true
   },
   "outputs": [
    {
     "data": {
      "text/plain": [
       "KMeans(algorithm='auto', copy_x=True, init='k-means++', max_iter=300,\n",
       "    n_clusters=4, n_init=10, n_jobs=1, precompute_distances='auto',\n",
       "    random_state=0, tol=0.0001, verbose=0)"
      ]
     },
     "execution_count": 41,
     "metadata": {},
     "output_type": "execute_result"
    },
    {
     "data": {
      "text/html": [
       "<div>\n",
       "<style>\n",
       "    .dataframe thead tr:only-child th {\n",
       "        text-align: right;\n",
       "    }\n",
       "\n",
       "    .dataframe thead th {\n",
       "        text-align: left;\n",
       "    }\n",
       "\n",
       "    .dataframe tbody tr th {\n",
       "        vertical-align: top;\n",
       "    }\n",
       "</style>\n",
       "<table border=\"1\" class=\"dataframe\">\n",
       "  <thead>\n",
       "    <tr style=\"text-align: right;\">\n",
       "      <th></th>\n",
       "      <th>is_churn</th>\n",
       "      <th>bd</th>\n",
       "      <th>payment_plan_days</th>\n",
       "      <th>is_auto_renew</th>\n",
       "      <th>is_cancel</th>\n",
       "      <th>transaction_num</th>\n",
       "      <th>payment_nunique</th>\n",
       "      <th>plans_nunique</th>\n",
       "      <th>city_1.0</th>\n",
       "      <th>city_3.0</th>\n",
       "      <th>...</th>\n",
       "      <th>num_of_record</th>\n",
       "      <th>average_sec</th>\n",
       "      <th>Repeat_songs</th>\n",
       "      <th>Quick_scan</th>\n",
       "      <th>Playlist_usage</th>\n",
       "      <th>num_100</th>\n",
       "      <th>num_25</th>\n",
       "      <th>num_50</th>\n",
       "      <th>num_75</th>\n",
       "      <th>num_985</th>\n",
       "    </tr>\n",
       "    <tr>\n",
       "      <th>cluster</th>\n",
       "      <th></th>\n",
       "      <th></th>\n",
       "      <th></th>\n",
       "      <th></th>\n",
       "      <th></th>\n",
       "      <th></th>\n",
       "      <th></th>\n",
       "      <th></th>\n",
       "      <th></th>\n",
       "      <th></th>\n",
       "      <th></th>\n",
       "      <th></th>\n",
       "      <th></th>\n",
       "      <th></th>\n",
       "      <th></th>\n",
       "      <th></th>\n",
       "      <th></th>\n",
       "      <th></th>\n",
       "      <th></th>\n",
       "      <th></th>\n",
       "      <th></th>\n",
       "    </tr>\n",
       "  </thead>\n",
       "  <tbody>\n",
       "    <tr>\n",
       "      <th>0</th>\n",
       "      <td>0.065971</td>\n",
       "      <td>13.887554</td>\n",
       "      <td>34.462781</td>\n",
       "      <td>0.878299</td>\n",
       "      <td>0.034069</td>\n",
       "      <td>16.488578</td>\n",
       "      <td>1.189445</td>\n",
       "      <td>1.609295</td>\n",
       "      <td>0.504332</td>\n",
       "      <td>0.005908</td>\n",
       "      <td>...</td>\n",
       "      <td>287.442103</td>\n",
       "      <td>-3.171427e+10</td>\n",
       "      <td>-0.297275</td>\n",
       "      <td>5.739023</td>\n",
       "      <td>25.288157</td>\n",
       "      <td>0.080062</td>\n",
       "      <td>0.100281</td>\n",
       "      <td>0.156877</td>\n",
       "      <td>0.162090</td>\n",
       "      <td>0.145520</td>\n",
       "    </tr>\n",
       "    <tr>\n",
       "      <th>1</th>\n",
       "      <td>0.000000</td>\n",
       "      <td>26.000000</td>\n",
       "      <td>30.000000</td>\n",
       "      <td>1.000000</td>\n",
       "      <td>0.000000</td>\n",
       "      <td>11.000000</td>\n",
       "      <td>2.000000</td>\n",
       "      <td>2.000000</td>\n",
       "      <td>0.000000</td>\n",
       "      <td>0.000000</td>\n",
       "      <td>...</td>\n",
       "      <td>16.000000</td>\n",
       "      <td>-5.764608e+14</td>\n",
       "      <td>-16.375000</td>\n",
       "      <td>15.875000</td>\n",
       "      <td>6.187500</td>\n",
       "      <td>-0.617977</td>\n",
       "      <td>0.811024</td>\n",
       "      <td>0.288889</td>\n",
       "      <td>1.000000</td>\n",
       "      <td>-0.600000</td>\n",
       "    </tr>\n",
       "    <tr>\n",
       "      <th>2</th>\n",
       "      <td>0.100000</td>\n",
       "      <td>19.500000</td>\n",
       "      <td>30.000000</td>\n",
       "      <td>0.800000</td>\n",
       "      <td>0.100000</td>\n",
       "      <td>22.100000</td>\n",
       "      <td>1.200000</td>\n",
       "      <td>2.000000</td>\n",
       "      <td>0.300000</td>\n",
       "      <td>0.000000</td>\n",
       "      <td>...</td>\n",
       "      <td>512.900000</td>\n",
       "      <td>-1.152813e+14</td>\n",
       "      <td>1.608149</td>\n",
       "      <td>6.381012</td>\n",
       "      <td>37.215421</td>\n",
       "      <td>0.147380</td>\n",
       "      <td>-0.264944</td>\n",
       "      <td>-0.412058</td>\n",
       "      <td>-0.096120</td>\n",
       "      <td>-0.786414</td>\n",
       "    </tr>\n",
       "    <tr>\n",
       "      <th>3</th>\n",
       "      <td>0.061538</td>\n",
       "      <td>21.969231</td>\n",
       "      <td>35.846154</td>\n",
       "      <td>0.815385</td>\n",
       "      <td>0.015385</td>\n",
       "      <td>22.984615</td>\n",
       "      <td>1.415385</td>\n",
       "      <td>2.307692</td>\n",
       "      <td>0.184615</td>\n",
       "      <td>0.015385</td>\n",
       "      <td>...</td>\n",
       "      <td>560.446154</td>\n",
       "      <td>-2.634341e+13</td>\n",
       "      <td>0.123718</td>\n",
       "      <td>7.341121</td>\n",
       "      <td>34.950634</td>\n",
       "      <td>0.200461</td>\n",
       "      <td>0.240683</td>\n",
       "      <td>0.349309</td>\n",
       "      <td>0.338005</td>\n",
       "      <td>0.285311</td>\n",
       "    </tr>\n",
       "  </tbody>\n",
       "</table>\n",
       "<p>4 rows × 40 columns</p>\n",
       "</div>"
      ],
      "text/plain": [
       "         is_churn         bd  payment_plan_days  is_auto_renew  is_cancel  \\\n",
       "cluster                                                                     \n",
       "0        0.065971  13.887554          34.462781       0.878299   0.034069   \n",
       "1        0.000000  26.000000          30.000000       1.000000   0.000000   \n",
       "2        0.100000  19.500000          30.000000       0.800000   0.100000   \n",
       "3        0.061538  21.969231          35.846154       0.815385   0.015385   \n",
       "\n",
       "         transaction_num  payment_nunique  plans_nunique  city_1.0  city_3.0  \\\n",
       "cluster                                                                        \n",
       "0              16.488578         1.189445       1.609295  0.504332  0.005908   \n",
       "1              11.000000         2.000000       2.000000  0.000000  0.000000   \n",
       "2              22.100000         1.200000       2.000000  0.300000  0.000000   \n",
       "3              22.984615         1.415385       2.307692  0.184615  0.015385   \n",
       "\n",
       "           ...     num_of_record   average_sec  Repeat_songs  Quick_scan  \\\n",
       "cluster    ...                                                             \n",
       "0          ...        287.442103 -3.171427e+10     -0.297275    5.739023   \n",
       "1          ...         16.000000 -5.764608e+14    -16.375000   15.875000   \n",
       "2          ...        512.900000 -1.152813e+14      1.608149    6.381012   \n",
       "3          ...        560.446154 -2.634341e+13      0.123718    7.341121   \n",
       "\n",
       "         Playlist_usage   num_100    num_25    num_50    num_75   num_985  \n",
       "cluster                                                                    \n",
       "0             25.288157  0.080062  0.100281  0.156877  0.162090  0.145520  \n",
       "1              6.187500 -0.617977  0.811024  0.288889  1.000000 -0.600000  \n",
       "2             37.215421  0.147380 -0.264944 -0.412058 -0.096120 -0.786414  \n",
       "3             34.950634  0.200461  0.240683  0.349309  0.338005  0.285311  \n",
       "\n",
       "[4 rows x 40 columns]"
      ]
     },
     "execution_count": 41,
     "metadata": {},
     "output_type": "execute_result"
    }
   ],
   "source": [
    "clu = KMeans(n_clusters=4, random_state=0)\n",
    "clu.fit(temp_cluster)\n",
    "temp_cluster['cluster'] = clu.labels_\n",
    "temp_cluster.groupby('cluster').mean()"
   ]
  },
  {
   "cell_type": "markdown",
   "metadata": {
    "collapsed": true,
    "deletable": true,
    "editable": true
   },
   "source": [
    "# Data Visualization"
   ]
  },
  {
   "cell_type": "markdown",
   "metadata": {
    "deletable": true,
    "editable": true
   },
   "source": [
    "#### Customers that listen to more songs are more likely to leave the service given that they have been a customer for less than 2 years."
   ]
  },
  {
   "cell_type": "code",
   "execution_count": 48,
   "metadata": {
    "collapsed": false,
    "deletable": true,
    "editable": true
   },
   "outputs": [
    {
     "data": {
      "text/plain": [
       "<seaborn.axisgrid.FacetGrid at 0xcb94d30>"
      ]
     },
     "execution_count": 48,
     "metadata": {},
     "output_type": "execute_result"
    },
    {
     "data": {
      "text/plain": [
       "<matplotlib.text.Text at 0x18e61400>"
      ]
     },
     "execution_count": 48,
     "metadata": {},
     "output_type": "execute_result"
    },
    {
     "data": {
      "text/plain": [
       "<matplotlib.text.Text at 0x131d2f60>"
      ]
     },
     "execution_count": 48,
     "metadata": {},
     "output_type": "execute_result"
    },
    {
     "data": {
      "image/png": "[encoded data removed]",
      "text/plain": [
       "<matplotlib.figure.Figure at 0x131d2208>"
      ]
     },
     "metadata": {},
     "output_type": "display_data"
    }
   ],
   "source": [
    "# Subscriptions are renewed monthly and thus the number of transactions is used as a proxy for time\n",
    "temp_subset['<= 26 months'] = temp_subset['transaction_num'] <= 26.5\n",
    "temp_subset['Playlist_usage_bin'] = pd.cut(temp_subset.Playlist_usage,bins=[-1,10,20,30,temp_subset.Playlist_usage.max()], right=True)\n",
    "sns.factorplot(x='Playlist_usage_bin', y='is_churn',hue='<= 26 months', data=temp_subset, kind='bar', aspect=3)\n",
    "plt.ylabel('Churn rate', fontsize=16)\n",
    "plt.xlabel('Usage', fontsize=16)"
   ]
  },
  {
   "cell_type": "markdown",
   "metadata": {
    "deletable": true,
    "editable": true
   },
   "source": [
    "#### Customers who change songs more actively are less likely to churn than those who put music in the background and change passively."
   ]
  },
  {
   "cell_type": "code",
   "execution_count": 49,
   "metadata": {
    "collapsed": false,
    "deletable": true,
    "editable": true,
    "scrolled": false
   },
   "outputs": [
    {
     "data": {
      "text/plain": [
       "<seaborn.axisgrid.FacetGrid at 0xbc37d68>"
      ]
     },
     "execution_count": 49,
     "metadata": {},
     "output_type": "execute_result"
    },
    {
     "data": {
      "text/plain": [
       "<matplotlib.text.Text at 0x178ce0f0>"
      ]
     },
     "execution_count": 49,
     "metadata": {},
     "output_type": "execute_result"
    },
    {
     "data": {
      "text/plain": [
       "<matplotlib.text.Text at 0xcb94128>"
      ]
     },
     "execution_count": 49,
     "metadata": {},
     "output_type": "execute_result"
    },
    {
     "data": {
      "image/png": "[encoded data removed]",
      "text/plain": [
       "<matplotlib.figure.Figure at 0x18e5f358>"
      ]
     },
     "metadata": {},
     "output_type": "display_data"
    }
   ],
   "source": [
    "temp_subset['Active_percentage_drop'] = pd.cut(temp_subset.num_25,bins=[-inf,-0.5,-0.25,0,0.25,0.5,1], right=True, \n",
    "                                              labels = ['< -50%', '(-50%, -25%]', '(-25%, 0%]', '(0%, 25%]', '(25%, 50%]', '(50%, 100%]'])\n",
    "sns.factorplot(x='Active_percentage_drop', y='is_churn', data=temp_subset, kind='bar',aspect=3)\n",
    "plt.ylabel('Churn rate', fontsize=16)\n",
    "plt.xlabel('Percentage of Decrease in Actively Switching songs', fontsize=16)"
   ]
  },
  {
   "cell_type": "code",
   "execution_count": 50,
   "metadata": {
    "collapsed": false,
    "deletable": true,
    "editable": true,
    "scrolled": false
   },
   "outputs": [
    {
     "data": {
      "text/plain": [
       "<seaborn.axisgrid.FacetGrid at 0x16d7e518>"
      ]
     },
     "execution_count": 50,
     "metadata": {},
     "output_type": "execute_result"
    },
    {
     "data": {
      "text/plain": [
       "<matplotlib.text.Text at 0x123e2390>"
      ]
     },
     "execution_count": 50,
     "metadata": {},
     "output_type": "execute_result"
    },
    {
     "data": {
      "text/plain": [
       "<matplotlib.text.Text at 0x12405c50>"
      ]
     },
     "execution_count": 50,
     "metadata": {},
     "output_type": "execute_result"
    },
    {
     "data": {
      "image/png": "[encoded data removed]",
      "text/plain": [
       "<matplotlib.figure.Figure at 0x1243c908>"
      ]
     },
     "metadata": {},
     "output_type": "display_data"
    }
   ],
   "source": [
    "temp_subset['Passive_percentage_drop'] = pd.cut(temp_subset.num_100,bins=[-inf,-0.5,-0.25,0,0.25,0.5,1], right=True,\n",
    "                                               labels = ['< -50%', '(-50%, -25%]', '(-25%, 0%]', '(0%, 25%]', '(25%, 50%]', '(50%, 100%]'])\n",
    "sns.factorplot(x='Passive_percentage_drop', y='is_churn', data=temp_subset, kind='bar',aspect=3)\n",
    "plt.ylabel('Churn rate', fontsize=16)\n",
    "plt.xlabel('Percentage of Decrease in Passively Switching songs', fontsize=16)"
   ]
  },
  {
   "cell_type": "markdown",
   "metadata": {
    "deletable": true,
    "editable": true
   },
   "source": [
    "#### Students under 18 has a high churn rate.  Maybe KKbox should consider having a student plan like Amazon student Prime."
   ]
  },
  {
   "cell_type": "code",
   "execution_count": 49,
   "metadata": {
    "collapsed": false,
    "deletable": true,
    "editable": true
   },
   "outputs": [],
   "source": [
    "temp_subset['Age'] = pd.cut(temp_subset.bd,bins=[0,18,30,40,50,65], right=True)"
   ]
  },
  {
   "cell_type": "code",
   "execution_count": 50,
   "metadata": {
    "collapsed": false,
    "deletable": true,
    "editable": true,
    "scrolled": true
   },
   "outputs": [
    {
     "data": {
      "text/plain": [
       "<seaborn.axisgrid.FacetGrid at 0x10f0cbd10>"
      ]
     },
     "execution_count": 50,
     "metadata": {},
     "output_type": "execute_result"
    },
    {
     "data": {
      "image/png": "[encoded data removed]",
      "text/plain": [
       "<matplotlib.figure.Figure at 0x112aed450>"
      ]
     },
     "metadata": {},
     "output_type": "display_data"
    }
   ],
   "source": [
    "sns.factorplot(x='Age', y='is_churn', data=temp_subset, kind='bar', aspect=3)"
   ]
  },
  {
   "cell_type": "code",
   "execution_count": 51,
   "metadata": {
    "collapsed": false,
    "deletable": true,
    "editable": true,
    "scrolled": true
   },
   "outputs": [
    {
     "data": {
      "text/plain": [
       "<seaborn.axisgrid.FacetGrid at 0x113c4cf90>"
      ]
     },
     "execution_count": 51,
     "metadata": {},
     "output_type": "execute_result"
    },
    {
     "data": {
      "image/png": "[encoded data removed]",
      "text/plain": [
       "<matplotlib.figure.Figure at 0x1133cf890>"
      ]
     },
     "metadata": {},
     "output_type": "display_data"
    }
   ],
   "source": [
    "sns.factorplot(x='actual_amount_paid', y='is_churn', data=temp_subset, kind='bar', aspect=3)"
   ]
  },
  {
   "cell_type": "code",
   "execution_count": 52,
   "metadata": {
    "collapsed": false,
    "deletable": true,
    "editable": true
   },
   "outputs": [
    {
     "data": {
      "text/plain": [
       "Index([u'msno', u'is_churn', u'bd', u'registered_via',\n",
       "       u'registration_init_time', u'expiration_date', u'Taipei',\n",
       "       u'payment_method_id', u'payment_plan_days', u'plan_list_price',\n",
       "       u'actual_amount_paid', u'is_auto_renew', u'transaction_date',\n",
       "       u'membership_expire_date', u'is_cancel', u'transaction_num',\n",
       "       u'payment_nunique', u'plans_nunique', u'city_1.0', u'city_3.0',\n",
       "       u'city_4.0', u'city_5.0', u'city_6.0', u'city_7.0', u'city_8.0',\n",
       "       u'city_9.0', u'city_10.0', u'city_11.0', u'city_12.0', u'city_13.0',\n",
       "       u'city_14.0', u'city_15.0', u'city_16.0', u'city_17.0', u'city_18.0',\n",
       "       u'city_20.0', u'city_21.0', u'city_22.0', u'gender_female',\n",
       "       u'gender_male', u'num_of_record', u'std_sec', u'average_sec',\n",
       "       u'total_unq_songs', u'average_song', u'Repeat_songs', u'Quick_scan',\n",
       "       u'Playlist_usage', u'num_100', u'num_25', u'num_50', u'num_75',\n",
       "       u'num_985', u'num_unq', u'total_secs', u'Transaction record <= 2 years',\n",
       "       u'Playlist_usage_bin', u'Active_percentage_drop',\n",
       "       u'Passive_percentage_drop', u'Age'],\n",
       "      dtype='object')"
      ]
     },
     "execution_count": 52,
     "metadata": {},
     "output_type": "execute_result"
    }
   ],
   "source": [
    "temp_subset.columns"
   ]
  },
  {
   "cell_type": "code",
   "execution_count": 53,
   "metadata": {
    "collapsed": false,
    "deletable": true,
    "editable": true
   },
   "outputs": [],
   "source": [
    "gr = temp_subset.groupby(['Taipei','is_churn'])['average_sec'].mean()"
   ]
  },
  {
   "cell_type": "code",
   "execution_count": 54,
   "metadata": {
    "collapsed": false,
    "deletable": true,
    "editable": true
   },
   "outputs": [
    {
     "data": {
      "text/plain": [
       "<matplotlib.axes._subplots.AxesSubplot at 0x114e74210>"
      ]
     },
     "execution_count": 54,
     "metadata": {},
     "output_type": "execute_result"
    },
    {
     "data": {
      "image/png": "[encoded data removed]",
      "text/plain": [
       "<matplotlib.figure.Figure at 0x114ab6390>"
      ]
     },
     "metadata": {},
     "output_type": "display_data"
    }
   ],
   "source": [
    "sns.heatmap(gr.unstack(), annot=True)"
   ]
  },
  {
   "cell_type": "code",
   "execution_count": 55,
   "metadata": {
    "collapsed": false,
    "deletable": true,
    "editable": true
   },
   "outputs": [
    {
     "data": {
      "text/plain": [
       "<matplotlib.axes._subplots.AxesSubplot at 0x113462ad0>"
      ]
     },
     "execution_count": 55,
     "metadata": {},
     "output_type": "execute_result"
    },
    {
     "data": {
      "image/png": "[encoded data removed]",
      "text/plain": [
       "<matplotlib.figure.Figure at 0x112af9b10>"
      ]
     },
     "metadata": {},
     "output_type": "display_data"
    }
   ],
   "source": [
    "sns.countplot(x='registered_via',hue='is_churn',data=temp_subset)"
   ]
  },
  {
   "cell_type": "markdown",
   "metadata": {
    "collapsed": true,
    "deletable": true,
    "editable": true
   },
   "source": [
    "# Machine Learning Model"
   ]
  },
  {
   "cell_type": "markdown",
   "metadata": {
    "deletable": true,
    "editable": true
   },
   "source": [
    "## Holdout Sample"
   ]
  },
  {
   "cell_type": "markdown",
   "metadata": {
    "deletable": true,
    "editable": true
   },
   "source": [
    "Split the data into 70% training and 30% test"
   ]
  },
  {
   "cell_type": "code",
   "execution_count": 56,
   "metadata": {
    "collapsed": true,
    "deletable": true,
    "editable": true
   },
   "outputs": [],
   "source": [
    "from sklearn.model_selection import train_test_split\n",
    "X_train, X_test, Y_train, Y_test = train_test_split(X,Y,test_size = 0.3, random_state = 0)"
   ]
  },
  {
   "cell_type": "markdown",
   "metadata": {
    "deletable": true,
    "editable": true
   },
   "source": [
    "## Random Forest"
   ]
  },
  {
   "cell_type": "code",
   "execution_count": 57,
   "metadata": {
    "collapsed": false,
    "deletable": true,
    "editable": true,
    "scrolled": true
   },
   "outputs": [
    {
     "data": {
      "text/plain": [
       "RandomForestClassifier(bootstrap=True, class_weight=None, criterion='gini',\n",
       "            max_depth=None, max_features='auto', max_leaf_nodes=None,\n",
       "            min_impurity_decrease=0.0, min_impurity_split=None,\n",
       "            min_samples_leaf=1, min_samples_split=2,\n",
       "            min_weight_fraction_leaf=0.0, n_estimators=10, n_jobs=1,\n",
       "            oob_score=False, random_state=0, verbose=0, warm_start=False)"
      ]
     },
     "execution_count": 57,
     "metadata": {},
     "output_type": "execute_result"
    }
   ],
   "source": [
    "from sklearn.ensemble import RandomForestClassifier\n",
    "cl = RandomForestClassifier(random_state=0)\n",
    "cl.fit(X_train, Y_train)"
   ]
  },
  {
   "cell_type": "markdown",
   "metadata": {
    "deletable": true,
    "editable": true
   },
   "source": [
    "#### Feature Importance"
   ]
  },
  {
   "cell_type": "code",
   "execution_count": 58,
   "metadata": {
    "collapsed": false,
    "deletable": true,
    "editable": true
   },
   "outputs": [
    {
     "name": "stdout",
     "output_type": "stream",
     "text": [
      "                   importance\n",
      "feature                      \n",
      "is_cancel               0.246\n",
      "is_auto_renew           0.131\n",
      "Quick_scan              0.058\n",
      "Repeat_songs            0.054\n",
      "transaction_num         0.050\n",
      "average_sec             0.049\n",
      "num_100                 0.047\n",
      "num_of_record           0.045\n",
      "payment_plan_days       0.044\n",
      "Playlist_usage          0.044\n",
      "bd                      0.034\n",
      "num_25                  0.032\n",
      "num_50                  0.029\n",
      "num_985                 0.026\n",
      "num_75                  0.021\n",
      "payment_nunique         0.016\n",
      "plans_nunique           0.016\n",
      "gender_female           0.009\n",
      "city_1.0                0.007\n",
      "city_15.0               0.006\n",
      "gender_male             0.005\n",
      "city_13.0               0.004\n",
      "Taipei                  0.004\n",
      "city_4.0                0.004\n",
      "city_5.0                0.004\n",
      "city_22.0               0.002\n",
      "city_6.0                0.002\n",
      "city_14.0               0.002\n",
      "city_21.0               0.002\n",
      "city_18.0               0.001\n",
      "city_3.0                0.001\n",
      "city_12.0               0.001\n",
      "city_11.0               0.001\n",
      "city_10.0               0.001\n",
      "city_9.0                0.000\n",
      "city_7.0                0.000\n",
      "city_20.0               0.000\n",
      "city_17.0               0.000\n",
      "city_16.0               0.000\n",
      "city_8.0                0.000\n"
     ]
    },
    {
     "data": {
      "text/plain": [
       "<matplotlib.axes._subplots.AxesSubplot at 0x10efc7650>"
      ]
     },
     "execution_count": 58,
     "metadata": {},
     "output_type": "execute_result"
    },
    {
     "data": {
      "image/png": "[encoded data removed]",
      "text/plain": [
       "<matplotlib.figure.Figure at 0x10efb07d0>"
      ]
     },
     "metadata": {},
     "output_type": "display_data"
    }
   ],
   "source": [
    "importances = pd.DataFrame({'feature':X_train.columns,'importance':np.round(cl.feature_importances_,3)})\n",
    "importances = importances.sort_values('importance',ascending=False).set_index('feature')\n",
    "print importances\n",
    "importances.plot.bar()"
   ]
  },
  {
   "cell_type": "code",
   "execution_count": 59,
   "metadata": {
    "collapsed": false,
    "deletable": true,
    "editable": true
   },
   "outputs": [],
   "source": [
    "y_pred = cl.predict(X_test)\n",
    "y_pred_proba = cl.predict_proba(X_test)[:,1]"
   ]
  },
  {
   "cell_type": "markdown",
   "metadata": {
    "deletable": true,
    "editable": true
   },
   "source": [
    "#### Confusion Matrix"
   ]
  },
  {
   "cell_type": "code",
   "execution_count": 60,
   "metadata": {
    "collapsed": false,
    "deletable": true,
    "editable": true,
    "scrolled": true
   },
   "outputs": [
    {
     "data": {
      "text/plain": [
       "array([[1423,   57],\n",
       "       [  26,   41]])"
      ]
     },
     "execution_count": 60,
     "metadata": {},
     "output_type": "execute_result"
    }
   ],
   "source": [
    "from sklearn.metrics import confusion_matrix\n",
    "confusion_matrix(y_pred, Y_test)"
   ]
  },
  {
   "cell_type": "markdown",
   "metadata": {
    "deletable": true,
    "editable": true
   },
   "source": [
    "#### Accuracy"
   ]
  },
  {
   "cell_type": "code",
   "execution_count": 61,
   "metadata": {
    "collapsed": false,
    "deletable": true,
    "editable": true
   },
   "outputs": [
    {
     "data": {
      "text/plain": [
       "0.94634776987718161"
      ]
     },
     "execution_count": 61,
     "metadata": {},
     "output_type": "execute_result"
    }
   ],
   "source": [
    "(y_pred == Y_test).mean()"
   ]
  },
  {
   "cell_type": "markdown",
   "metadata": {
    "deletable": true,
    "editable": true
   },
   "source": [
    "#### Precision"
   ]
  },
  {
   "cell_type": "code",
   "execution_count": 62,
   "metadata": {
    "collapsed": true,
    "deletable": true,
    "editable": true
   },
   "outputs": [],
   "source": [
    "import sklearn.metrics as met"
   ]
  },
  {
   "cell_type": "code",
   "execution_count": 63,
   "metadata": {
    "collapsed": false,
    "deletable": true,
    "editable": true
   },
   "outputs": [
    {
     "data": {
      "text/plain": [
       "0.61194029850746268"
      ]
     },
     "execution_count": 63,
     "metadata": {},
     "output_type": "execute_result"
    }
   ],
   "source": [
    "met.precision_score(Y_test,y_pred)"
   ]
  },
  {
   "cell_type": "code",
   "execution_count": 64,
   "metadata": {
    "collapsed": false,
    "deletable": true,
    "editable": true
   },
   "outputs": [
    {
     "data": {
      "text/plain": [
       "0.063348416289592757"
      ]
     },
     "execution_count": 64,
     "metadata": {},
     "output_type": "execute_result"
    }
   ],
   "source": [
    "Y_test.mean()"
   ]
  },
  {
   "cell_type": "markdown",
   "metadata": {
    "deletable": true,
    "editable": true
   },
   "source": [
    "#### Recall"
   ]
  },
  {
   "cell_type": "code",
   "execution_count": 65,
   "metadata": {
    "collapsed": false,
    "deletable": true,
    "editable": true
   },
   "outputs": [
    {
     "data": {
      "text/plain": [
       "0.41836734693877553"
      ]
     },
     "execution_count": 65,
     "metadata": {},
     "output_type": "execute_result"
    }
   ],
   "source": [
    "met.recall_score(Y_test,y_pred)"
   ]
  },
  {
   "cell_type": "markdown",
   "metadata": {
    "deletable": true,
    "editable": true
   },
   "source": [
    "#### AUC score"
   ]
  },
  {
   "cell_type": "code",
   "execution_count": 66,
   "metadata": {
    "collapsed": false,
    "deletable": true,
    "editable": true
   },
   "outputs": [
    {
     "data": {
      "text/plain": [
       "0.94673314460359714"
      ]
     },
     "execution_count": 66,
     "metadata": {},
     "output_type": "execute_result"
    }
   ],
   "source": [
    "met.roc_auc_score(Y_test,y_pred_proba)"
   ]
  },
  {
   "cell_type": "code",
   "execution_count": 67,
   "metadata": {
    "collapsed": false,
    "deletable": true,
    "editable": true,
    "scrolled": false
   },
   "outputs": [
    {
     "data": {
      "text/plain": [
       "<matplotlib.text.Text at 0x116f9f390>"
      ]
     },
     "execution_count": 67,
     "metadata": {},
     "output_type": "execute_result"
    },
    {
     "data": {
      "text/plain": [
       "[<matplotlib.lines.Line2D at 0x116df8e50>]"
      ]
     },
     "execution_count": 67,
     "metadata": {},
     "output_type": "execute_result"
    },
    {
     "data": {
      "text/plain": [
       "<matplotlib.legend.Legend at 0x11347d1d0>"
      ]
     },
     "execution_count": 67,
     "metadata": {},
     "output_type": "execute_result"
    },
    {
     "data": {
      "text/plain": [
       "[<matplotlib.lines.Line2D at 0x11751bcd0>]"
      ]
     },
     "execution_count": 67,
     "metadata": {},
     "output_type": "execute_result"
    },
    {
     "data": {
      "text/plain": [
       "(0, 1)"
      ]
     },
     "execution_count": 67,
     "metadata": {},
     "output_type": "execute_result"
    },
    {
     "data": {
      "text/plain": [
       "(0, 1)"
      ]
     },
     "execution_count": 67,
     "metadata": {},
     "output_type": "execute_result"
    },
    {
     "data": {
      "text/plain": [
       "<matplotlib.text.Text at 0x112f41b90>"
      ]
     },
     "execution_count": 67,
     "metadata": {},
     "output_type": "execute_result"
    },
    {
     "data": {
      "text/plain": [
       "<matplotlib.text.Text at 0x10f06b310>"
      ]
     },
     "execution_count": 67,
     "metadata": {},
     "output_type": "execute_result"
    },
    {
     "data": {
      "image/png": "[encoded data removed]",
      "text/plain": [
       "<matplotlib.figure.Figure at 0x116e031d0>"
      ]
     },
     "metadata": {},
     "output_type": "display_data"
    }
   ],
   "source": [
    "# calculate the fpr and tpr for all thresholds of the classification\n",
    "fpr, tpr, threshold = met.roc_curve(Y_test, y_pred_proba)\n",
    "roc_auc = met.auc(fpr, tpr)\n",
    "\n",
    "import matplotlib.pyplot as plt\n",
    "plt.title('Receiver Operating Characteristic')\n",
    "plt.plot(fpr, tpr, 'b', label = 'AUC = %0.2f' % roc_auc)\n",
    "plt.legend(loc = 'lower right')\n",
    "plt.plot([0, 1], [0, 1],'r--')\n",
    "plt.xlim([0, 1])\n",
    "plt.ylim([0, 1])\n",
    "plt.ylabel('True Positive Rate')\n",
    "plt.xlabel('False Positive Rate')\n",
    "plt.show()"
   ]
  },
  {
   "cell_type": "markdown",
   "metadata": {
    "collapsed": true,
    "deletable": true,
    "editable": true
   },
   "source": [
    "# Cross-validation"
   ]
  },
  {
   "cell_type": "code",
   "execution_count": 68,
   "metadata": {
    "collapsed": true,
    "deletable": true,
    "editable": true
   },
   "outputs": [],
   "source": [
    "nfolds = 10"
   ]
  },
  {
   "cell_type": "code",
   "execution_count": 69,
   "metadata": {
    "collapsed": true,
    "deletable": true,
    "editable": true
   },
   "outputs": [],
   "source": [
    "from sklearn.model_selection import KFold"
   ]
  },
  {
   "cell_type": "code",
   "execution_count": 70,
   "metadata": {
    "collapsed": true,
    "deletable": true,
    "editable": true
   },
   "outputs": [],
   "source": [
    "kf = KFold(n_splits=nfolds,random_state=0,shuffle=True)"
   ]
  },
  {
   "cell_type": "code",
   "execution_count": 71,
   "metadata": {
    "collapsed": false,
    "deletable": true,
    "editable": true
   },
   "outputs": [],
   "source": [
    "avgCV_AUC = sk.model_selection.cross_val_score(cl,X,Y,cv=kf,n_jobs=-1,scoring='roc_auc').mean()"
   ]
  },
  {
   "cell_type": "code",
   "execution_count": 72,
   "metadata": {
    "collapsed": false,
    "deletable": true,
    "editable": true
   },
   "outputs": [
    {
     "data": {
      "text/plain": [
       "0.94777192941115351"
      ]
     },
     "execution_count": 72,
     "metadata": {},
     "output_type": "execute_result"
    }
   ],
   "source": [
    "avgCV_AUC"
   ]
  },
  {
   "cell_type": "markdown",
   "metadata": {
    "deletable": true,
    "editable": true
   },
   "source": [
    "# Finding the best Classifier"
   ]
  },
  {
   "cell_type": "markdown",
   "metadata": {
    "deletable": true,
    "editable": true
   },
   "source": [
    "A list of Classifiers"
   ]
  },
  {
   "cell_type": "code",
   "execution_count": 73,
   "metadata": {
    "collapsed": true,
    "deletable": true,
    "editable": true
   },
   "outputs": [],
   "source": [
    "from sklearn.ensemble import RandomForestClassifier\n",
    "from sklearn.naive_bayes import GaussianNB\n",
    "from sklearn.discriminant_analysis import QuadraticDiscriminantAnalysis\n",
    "from sklearn.neural_network import MLPClassifier\n",
    "from sklearn.ensemble import BaggingClassifier\n",
    "from sklearn.neighbors import KNeighborsClassifier\n",
    "from sklearn.ensemble import AdaBoostClassifier\n",
    "from sklearn.svm import SVC\n",
    "from sklearn.tree import DecisionTreeClassifier\n",
    "\n",
    "clfs = [DecisionTreeClassifier(), sk.ensemble.RandomForestClassifier(n_jobs=-1), sk.naive_bayes.GaussianNB(),\n",
    "        sk.linear_model.LogisticRegression(n_jobs=-1),sk.tree.DecisionTreeClassifier(),sk.ensemble.AdaBoostClassifier(),\n",
    "        QuadraticDiscriminantAnalysis(),MLPClassifier(),SVC()]"
   ]
  },
  {
   "cell_type": "code",
   "execution_count": 74,
   "metadata": {
    "collapsed": false,
    "deletable": true,
    "editable": true
   },
   "outputs": [
    {
     "name": "stdout",
     "output_type": "stream",
     "text": [
      "DecisionTreeClassifier(class_weight=None, criterion='gini', max_depth=None,\n",
      "            max_features=None, max_leaf_nodes=None,\n",
      "            min_impurity_decrease=0.0, min_impurity_split=None,\n",
      "            min_samples_leaf=1, min_samples_split=2,\n",
      "            min_weight_fraction_leaf=0.0, presort=False, random_state=None,\n",
      "            splitter='best') 0.765226882279\n",
      "RandomForestClassifier(bootstrap=True, class_weight=None, criterion='gini',\n",
      "            max_depth=None, max_features='auto', max_leaf_nodes=None,\n",
      "            min_impurity_decrease=0.0, min_impurity_split=None,\n",
      "            min_samples_leaf=1, min_samples_split=2,\n",
      "            min_weight_fraction_leaf=0.0, n_estimators=10, n_jobs=-1,\n",
      "            oob_score=False, random_state=None, verbose=0,\n",
      "            warm_start=False) 0.939935653971\n",
      "GaussianNB(priors=None) 0.495623827971\n"
     ]
    },
    {
     "name": "stderr",
     "output_type": "stream",
     "text": [
      "/Users/shaotangchien/Library/Enthought/Canopy_64bit/User/lib/python2.7/site-packages/sklearn/linear_model/logistic.py:1228: UserWarning: 'n_jobs' > 1 does not have any effect when 'solver' is set to 'liblinear'. Got 'n_jobs' = -1.\n",
      "  \" = {}.\".format(self.n_jobs))\n",
      "/Users/shaotangchien/Library/Enthought/Canopy_64bit/User/lib/python2.7/site-packages/sklearn/linear_model/logistic.py:1228: UserWarning: 'n_jobs' > 1 does not have any effect when 'solver' is set to 'liblinear'. Got 'n_jobs' = -1.\n",
      "  \" = {}.\".format(self.n_jobs))\n",
      "/Users/shaotangchien/Library/Enthought/Canopy_64bit/User/lib/python2.7/site-packages/sklearn/linear_model/logistic.py:1228: UserWarning: 'n_jobs' > 1 does not have any effect when 'solver' is set to 'liblinear'. Got 'n_jobs' = -1.\n",
      "  \" = {}.\".format(self.n_jobs))\n",
      "/Users/shaotangchien/Library/Enthought/Canopy_64bit/User/lib/python2.7/site-packages/sklearn/linear_model/logistic.py:1228: UserWarning: 'n_jobs' > 1 does not have any effect when 'solver' is set to 'liblinear'. Got 'n_jobs' = -1.\n",
      "  \" = {}.\".format(self.n_jobs))\n"
     ]
    },
    {
     "name": "stdout",
     "output_type": "stream",
     "text": [
      "LogisticRegression(C=1.0, class_weight=None, dual=False, fit_intercept=True,\n",
      "          intercept_scaling=1, max_iter=100, multi_class='ovr', n_jobs=-1,\n",
      "          penalty='l2', random_state=None, solver='liblinear', tol=0.0001,\n",
      "          verbose=0, warm_start=False) 0.517778758805\n",
      "DecisionTreeClassifier(class_weight=None, criterion='gini', max_depth=None,\n",
      "            max_features=None, max_leaf_nodes=None,\n",
      "            min_impurity_decrease=0.0, min_impurity_split=None,\n",
      "            min_samples_leaf=1, min_samples_split=2,\n",
      "            min_weight_fraction_leaf=0.0, presort=False, random_state=None,\n",
      "            splitter='best') 0.765226882279\n",
      "AdaBoostClassifier(algorithm='SAMME.R', base_estimator=None,\n",
      "          learning_rate=1.0, n_estimators=50, random_state=None) 0.951152176592\n",
      "QuadraticDiscriminantAnalysis(priors=None, reg_param=0.0,\n",
      "               store_covariance=False, store_covariances=None, tol=0.0001) 0.828617169422\n",
      "MLPClassifier(activation='relu', alpha=0.0001, batch_size='auto', beta_1=0.9,\n",
      "       beta_2=0.999, early_stopping=False, epsilon=1e-08,\n",
      "       hidden_layer_sizes=(100,), learning_rate='constant',\n",
      "       learning_rate_init=0.001, max_iter=200, momentum=0.9,\n",
      "       nesterovs_momentum=True, power_t=0.5, random_state=None,\n",
      "       shuffle=True, solver='adam', tol=0.0001, validation_fraction=0.1,\n",
      "       verbose=False, warm_start=False) 0.593822985057\n",
      "SVC(C=1.0, cache_size=200, class_weight=None, coef0=0.0,\n",
      "  decision_function_shape='ovr', degree=3, gamma='auto', kernel='rbf',\n",
      "  max_iter=-1, probability=False, random_state=None, shrinking=True,\n",
      "  tol=0.001, verbose=False) 0.582238436067\n",
      "Best is... AdaBoostClassifier(algorithm='SAMME.R', base_estimator=None,\n",
      "          learning_rate=1.0, n_estimators=50, random_state=None) 0.951152176592\n"
     ]
    }
   ],
   "source": [
    "maxAUC = -1\n",
    "bestCL = \"\"\n",
    "for cl in clfs:\n",
    "    auc = sk.model_selection.cross_val_score(cl,X,Y,cv=kf,n_jobs=-1,scoring='roc_auc').mean()\n",
    "    print (str(cl) + ' ' + str(auc))\n",
    "    if auc > maxAUC:\n",
    "        bestCL = cl\n",
    "        maxAUC = auc\n",
    "print ('Best is... ' + str(bestCL) + ' ' + str(maxAUC))"
   ]
  },
  {
   "cell_type": "markdown",
   "metadata": {
    "deletable": true,
    "editable": true
   },
   "source": [
    "From the above, we can derive the conclusion that AdaBoostClassifer has the best performance among all the classifers, which returns average AUC as 0.953."
   ]
  }
 ],
 "metadata": {
  "kernelspec": {
   "display_name": "Python 2",
   "language": "python",
   "name": "python2"
  },
  "language_info": {
   "codemirror_mode": {
    "name": "ipython",
    "version": 2
   },
   "file_extension": ".py",
   "mimetype": "text/x-python",
   "name": "python",
   "nbconvert_exporter": "python",
   "pygments_lexer": "ipython2",
   "version": "2.7.11"
  }
 },
 "nbformat": 4,
 "nbformat_minor": 2
}
